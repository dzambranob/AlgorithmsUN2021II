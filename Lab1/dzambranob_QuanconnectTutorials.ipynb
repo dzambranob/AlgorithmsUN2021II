{
  "nbformat": 4,
  "nbformat_minor": 0,
  "metadata": {
    "colab": {
      "name": "dzambranob_QuanconnectTutorials.ipynb",
      "provenance": []
    },
    "kernelspec": {
      "name": "python3",
      "display_name": "Python 3"
    },
    "language_info": {
      "name": "python"
    }
  },
  "cells": [
    {
      "cell_type": "markdown",
      "metadata": {
        "id": "Js6AzjeCmh0-"
      },
      "source": [
        "# **Tutorial 1 Python: Data Types and Data Structures**\n",
        "\n",
        "\n"
      ]
    },
    {
      "cell_type": "markdown",
      "metadata": {
        "id": "EYfGrIOOpyd3"
      },
      "source": [
        "##Basic Variable Types"
      ]
    },
    {
      "cell_type": "code",
      "metadata": {
        "colab": {
          "base_uri": "https://localhost:8080/"
        },
        "id": "l58ZpyaihVKQ",
        "outputId": "0219578e-f7ef-47ed-b36b-b14c7f221e16"
      },
      "source": [
        "my_string1 = 'Welcome to'\n",
        "my_string2 = \"QuantConnect\"\n",
        "print(my_string1 + ' ' + my_string2)"
      ],
      "execution_count": null,
      "outputs": [
        {
          "output_type": "stream",
          "name": "stdout",
          "text": [
            "Welcome to QuantConnect\n"
          ]
        }
      ]
    },
    {
      "cell_type": "code",
      "metadata": {
        "colab": {
          "base_uri": "https://localhost:8080/"
        },
        "id": "A8Ag7EVXklJA",
        "outputId": "615f1dc0-99b0-43ac-c38f-25133fd97a98"
      },
      "source": [
        "my_string1 = 'Hello to'\n",
        "my_string2 = \"everyone reading this\"\n",
        "print(my_string1 + ' ' + my_string2)"
      ],
      "execution_count": null,
      "outputs": [
        {
          "output_type": "stream",
          "name": "stdout",
          "text": [
            "Hello to everyone reading this\n"
          ]
        }
      ]
    },
    {
      "cell_type": "code",
      "metadata": {
        "colab": {
          "base_uri": "https://localhost:8080/"
        },
        "id": "T8TUhKK3njCQ",
        "outputId": "33badd63-dbd4-4a58-f75f-3ea0519ca3db"
      },
      "source": [
        "my_int = 10\n",
        "print(my_int)\n",
        "print(type(my_int))"
      ],
      "execution_count": null,
      "outputs": [
        {
          "output_type": "stream",
          "name": "stdout",
          "text": [
            "10\n",
            "<class 'int'>\n"
          ]
        }
      ]
    },
    {
      "cell_type": "code",
      "metadata": {
        "colab": {
          "base_uri": "https://localhost:8080/"
        },
        "id": "MOcZYfOnnqsQ",
        "outputId": "4556f194-8673-4d4c-8a59-953d3af09282"
      },
      "source": [
        "my_int = 57\n",
        "print(my_int)\n",
        "print(type(my_int))"
      ],
      "execution_count": null,
      "outputs": [
        {
          "output_type": "stream",
          "name": "stdout",
          "text": [
            "57\n",
            "<class 'int'>\n"
          ]
        }
      ]
    },
    {
      "cell_type": "code",
      "metadata": {
        "colab": {
          "base_uri": "https://localhost:8080/"
        },
        "id": "q6xAcGzcnu4N",
        "outputId": "e9eac172-51c6-4ea7-df8b-7623059db947"
      },
      "source": [
        "my_string = \"100\"\n",
        "print(type(my_string))\n",
        "my_int = int(my_string)\n",
        "print(type(my_int))"
      ],
      "execution_count": null,
      "outputs": [
        {
          "output_type": "stream",
          "name": "stdout",
          "text": [
            "<class 'str'>\n",
            "<class 'int'>\n"
          ]
        }
      ]
    },
    {
      "cell_type": "code",
      "metadata": {
        "colab": {
          "base_uri": "https://localhost:8080/"
        },
        "id": "MDBVMJRhpTJw",
        "outputId": "70eb2ea7-281b-46af-f59f-ef426b5c893a"
      },
      "source": [
        "my_float = 1.0\n",
        "print(type(my_float))\n",
        "my_int = 1\n",
        "print(type(my_int))"
      ],
      "execution_count": null,
      "outputs": [
        {
          "output_type": "stream",
          "name": "stdout",
          "text": [
            "<class 'float'>\n",
            "<class 'int'>\n"
          ]
        }
      ]
    },
    {
      "cell_type": "code",
      "metadata": {
        "colab": {
          "base_uri": "https://localhost:8080/"
        },
        "id": "QjBOHIT3pZ10",
        "outputId": "6362e9a0-7068-4691-a4fa-70326b589d95"
      },
      "source": [
        "my_string = \"100\"\n",
        "my_float = float(my_string)\n",
        "print(type(my_float))"
      ],
      "execution_count": null,
      "outputs": [
        {
          "output_type": "stream",
          "name": "stdout",
          "text": [
            "<class 'float'>\n"
          ]
        }
      ]
    },
    {
      "cell_type": "code",
      "metadata": {
        "colab": {
          "base_uri": "https://localhost:8080/"
        },
        "id": "7_gTXtYmpijT",
        "outputId": "c6035aab-2bf4-46aa-f9fc-f50d14fe8c18"
      },
      "source": [
        "my_bool = False\n",
        "print(my_bool)\n",
        "print(type(my_bool))"
      ],
      "execution_count": null,
      "outputs": [
        {
          "output_type": "stream",
          "name": "stdout",
          "text": [
            "False\n",
            "<class 'bool'>\n"
          ]
        }
      ]
    },
    {
      "cell_type": "code",
      "metadata": {
        "colab": {
          "base_uri": "https://localhost:8080/"
        },
        "id": "Um3Qzs5xpkhY",
        "outputId": "e313cadc-50bd-49bf-8867-57f7ac1d0b44"
      },
      "source": [
        "my_bool = True\n",
        "print(my_bool)\n",
        "print(type(my_bool))"
      ],
      "execution_count": null,
      "outputs": [
        {
          "output_type": "stream",
          "name": "stdout",
          "text": [
            "True\n",
            "<class 'bool'>\n"
          ]
        }
      ]
    },
    {
      "cell_type": "markdown",
      "metadata": {
        "id": "Ks0OaltHpptE"
      },
      "source": [
        "## Basic Math Operations"
      ]
    },
    {
      "cell_type": "code",
      "metadata": {
        "colab": {
          "base_uri": "https://localhost:8080/"
        },
        "id": "uqZLxJJVpoEv",
        "outputId": "fb6c25a3-8283-43db-9ae4-c6d3f6b9b05c"
      },
      "source": [
        "print(\"Addition \", 1+1)\n",
        "print(\"Subtraction \", 5-2)\n",
        "print(\"Multiplication \", 2*3)\n",
        "print(\"Division\", 10/2)\n",
        "print(\"exponent\", 2**3)"
      ],
      "execution_count": null,
      "outputs": [
        {
          "output_type": "stream",
          "name": "stdout",
          "text": [
            "Addition  2\n",
            "Subtraction  3\n",
            "Multiplication  6\n",
            "Division 5.0\n",
            "exponent 8\n"
          ]
        }
      ]
    },
    {
      "cell_type": "code",
      "metadata": {
        "colab": {
          "base_uri": "https://localhost:8080/"
        },
        "id": "mO6D82wKp-p8",
        "outputId": "79d4a234-0332-4d63-f98c-928ea3d87d89"
      },
      "source": [
        "print(\"Addition \", 13+5)\n",
        "print(\"Subtraction \", 4-7)\n",
        "print(\"Multiplication \", 13*6)\n",
        "print(\"Division\", 15/3)\n",
        "print(\"exponent\", 4**2)"
      ],
      "execution_count": null,
      "outputs": [
        {
          "output_type": "stream",
          "name": "stdout",
          "text": [
            "Addition  18\n",
            "Subtraction  -3\n",
            "Multiplication  78\n",
            "Division 5.0\n",
            "exponent 16\n"
          ]
        }
      ]
    },
    {
      "cell_type": "markdown",
      "metadata": {
        "id": "JkQyOOl9qHxf"
      },
      "source": [
        "##Data Collections"
      ]
    },
    {
      "cell_type": "code",
      "metadata": {
        "colab": {
          "base_uri": "https://localhost:8080/"
        },
        "id": "bX7vd4GjqLbb",
        "outputId": "3daf4afe-a765-4119-886a-829ad97be41c"
      },
      "source": [
        "my_list = ['Quant', 'Connect', 1,2,3]\n",
        "print(my_list)"
      ],
      "execution_count": null,
      "outputs": [
        {
          "output_type": "stream",
          "name": "stdout",
          "text": [
            "['Quant', 'Connect', 1, 2, 3]\n"
          ]
        }
      ]
    },
    {
      "cell_type": "code",
      "metadata": {
        "colab": {
          "base_uri": "https://localhost:8080/"
        },
        "id": "cqnP2-9EqdV3",
        "outputId": "311f4032-294e-42af-ab00-617da25beb76"
      },
      "source": [
        "my_list = [3278, 'Tutorial', 'Algorithms', 5, 8, 'Hi']\n",
        "print(my_list)"
      ],
      "execution_count": null,
      "outputs": [
        {
          "output_type": "stream",
          "name": "stdout",
          "text": [
            "[3278, 'Tutorial', 'Algorithms', 5, 8, 'Hi']\n"
          ]
        }
      ]
    },
    {
      "cell_type": "code",
      "metadata": {
        "colab": {
          "base_uri": "https://localhost:8080/"
        },
        "id": "fppIrYD-qwbb",
        "outputId": "e55e54ed-5470-4e22-f8d4-7928d8787b59"
      },
      "source": [
        "my_list = ['Quant', 'Connect', 1,2,3]\n",
        "print(len(my_list))\n",
        "print(my_list[0])\n",
        "print(my_list[len(my_list) - 1])"
      ],
      "execution_count": null,
      "outputs": [
        {
          "output_type": "stream",
          "name": "stdout",
          "text": [
            "5\n",
            "Quant\n",
            "3\n"
          ]
        }
      ]
    },
    {
      "cell_type": "code",
      "metadata": {
        "colab": {
          "base_uri": "https://localhost:8080/"
        },
        "id": "vbIxxddVqzif",
        "outputId": "208b455d-e3cd-470e-feb4-c963c0dc2332"
      },
      "source": [
        "my_list = [3278, 'Tutorial', 'Algorithms',5 ,8, 'Hi']\n",
        "print(len(my_list))\n",
        "print(my_list[0])\n",
        "print(my_list[len(my_list) - 1])"
      ],
      "execution_count": null,
      "outputs": [
        {
          "output_type": "stream",
          "name": "stdout",
          "text": [
            "6\n",
            "3278\n",
            "Hi\n"
          ]
        }
      ]
    },
    {
      "cell_type": "code",
      "metadata": {
        "colab": {
          "base_uri": "https://localhost:8080/"
        },
        "id": "lL0z3GfprTIF",
        "outputId": "a6864a43-3ec6-40ab-a1fb-cd66cb565bbb"
      },
      "source": [
        "my_list = ['Quant','Connect',1,2,3]\n",
        "my_list[2] = 'go'\n",
        "print(my_list)"
      ],
      "execution_count": null,
      "outputs": [
        {
          "output_type": "stream",
          "name": "stdout",
          "text": [
            "['Quant', 'Connect', 'go', 2, 3]\n"
          ]
        }
      ]
    },
    {
      "cell_type": "code",
      "metadata": {
        "colab": {
          "base_uri": "https://localhost:8080/"
        },
        "id": "7Lzz01fCrUP3",
        "outputId": "5778db62-2df4-4def-eed2-0c901479a1f6"
      },
      "source": [
        "my_list = [3278, 'Tutorial', 'Algorithms',5 ,8, 'Hi']\n",
        "my_list[3] = 'task'\n",
        "print(my_list)"
      ],
      "execution_count": null,
      "outputs": [
        {
          "output_type": "stream",
          "name": "stdout",
          "text": [
            "[3278, 'Tutorial', 'Algorithms', 'task', 8, 'Hi']\n"
          ]
        }
      ]
    },
    {
      "cell_type": "code",
      "metadata": {
        "colab": {
          "base_uri": "https://localhost:8080/"
        },
        "id": "eiRNqM9prsaU",
        "outputId": "43b386b8-7b97-4ec5-dcd7-7097e0c820e4"
      },
      "source": [
        "my_list = ['Quant','Connect',1,2,3]\n",
        "print(my_list[1:3])"
      ],
      "execution_count": null,
      "outputs": [
        {
          "output_type": "stream",
          "name": "stdout",
          "text": [
            "['Connect', 1]\n"
          ]
        }
      ]
    },
    {
      "cell_type": "code",
      "metadata": {
        "colab": {
          "base_uri": "https://localhost:8080/"
        },
        "id": "TnTfy0sPr2rC",
        "outputId": "69e2ba32-0bff-48a2-c1de-45c84e961df5"
      },
      "source": [
        "my_list = [3278, 'Tutorial', 'Algorithms',5 ,8, 'Hi']\n",
        "print(my_list[2:5])"
      ],
      "execution_count": null,
      "outputs": [
        {
          "output_type": "stream",
          "name": "stdout",
          "text": [
            "['Algorithms', 5, 8]\n"
          ]
        }
      ]
    },
    {
      "cell_type": "code",
      "metadata": {
        "colab": {
          "base_uri": "https://localhost:8080/"
        },
        "id": "YBEfLGSatDdq",
        "outputId": "8c5790a5-c014-4320-e553-c8e70b87c02b"
      },
      "source": [
        "my_list = ['Quant','Connect',1,2,3]\n",
        "print(my_list[1:])"
      ],
      "execution_count": null,
      "outputs": [
        {
          "output_type": "stream",
          "name": "stdout",
          "text": [
            "['Connect', 1, 2, 3]\n"
          ]
        }
      ]
    },
    {
      "cell_type": "code",
      "metadata": {
        "colab": {
          "base_uri": "https://localhost:8080/"
        },
        "id": "tJx75Jm4u62u",
        "outputId": "fb9901fc-d47e-4b7c-e628-36be8cb4a15c"
      },
      "source": [
        "my_list = [3278, 'Tutorial', 'Algorithms',5 ,8, 'Hi']\n",
        "print(my_list[4:])"
      ],
      "execution_count": null,
      "outputs": [
        {
          "output_type": "stream",
          "name": "stdout",
          "text": [
            "[8, 'Hi']\n"
          ]
        }
      ]
    },
    {
      "cell_type": "code",
      "metadata": {
        "colab": {
          "base_uri": "https://localhost:8080/"
        },
        "id": "6U68ktvAtTKh",
        "outputId": "c731d48c-e333-4756-e272-14b934ad84fa"
      },
      "source": [
        "my_list = ['Quant','Connect',1,2,3]\n",
        "print(my_list[:3])"
      ],
      "execution_count": null,
      "outputs": [
        {
          "output_type": "stream",
          "name": "stdout",
          "text": [
            "['Quant', 'Connect', 1]\n"
          ]
        }
      ]
    },
    {
      "cell_type": "code",
      "metadata": {
        "colab": {
          "base_uri": "https://localhost:8080/"
        },
        "id": "ysSQBOmyvDt6",
        "outputId": "2a7e05fd-d880-4601-d016-05848524aedf"
      },
      "source": [
        "my_list = [3278, 'Tutorial', 'Algorithms',5 ,8, 'Hi']\n",
        "print(my_list[:2])"
      ],
      "execution_count": null,
      "outputs": [
        {
          "output_type": "stream",
          "name": "stdout",
          "text": [
            "[3278, 'Tutorial']\n"
          ]
        }
      ]
    },
    {
      "cell_type": "code",
      "metadata": {
        "colab": {
          "base_uri": "https://localhost:8080/"
        },
        "id": "obNhH1CWtfIL",
        "outputId": "e6b85445-586b-47fe-bcf8-58b6c52cb77b"
      },
      "source": [
        "my_list = ['Hello', 'Quant']\n",
        "my_list.append('Hello')\n",
        "print(my_list)\n",
        "my_list.remove('Hello')\n",
        "print(my_list)"
      ],
      "execution_count": null,
      "outputs": [
        {
          "output_type": "stream",
          "name": "stdout",
          "text": [
            "['Hello', 'Quant', 'Hello']\n",
            "['Quant', 'Hello']\n"
          ]
        }
      ]
    },
    {
      "cell_type": "code",
      "metadata": {
        "colab": {
          "base_uri": "https://localhost:8080/"
        },
        "id": "1bK4EwSZvMBG",
        "outputId": "5e4a61ff-51ff-48a8-c81a-fdb705e144dc"
      },
      "source": [
        "my_list = ['Hi', 'October']\n",
        "my_list.append('Music')\n",
        "print(my_list)\n",
        "my_list.remove('October')\n",
        "print(my_list)"
      ],
      "execution_count": null,
      "outputs": [
        {
          "output_type": "stream",
          "name": "stdout",
          "text": [
            "['Hi', 'October', 'Music']\n",
            "['Hi', 'Music']\n"
          ]
        }
      ]
    },
    {
      "cell_type": "code",
      "metadata": {
        "colab": {
          "base_uri": "https://localhost:8080/"
        },
        "id": "YKBXrwqZwNtn",
        "outputId": "0f8323b1-db55-4b78-ed86-54c9d687ec97"
      },
      "source": [
        "my_tuple = ('Welcome','to','QuantConnect')\n",
        "print(my_tuple[1:])"
      ],
      "execution_count": null,
      "outputs": [
        {
          "output_type": "stream",
          "name": "stdout",
          "text": [
            "('to', 'QuantConnect')\n"
          ]
        }
      ]
    },
    {
      "cell_type": "code",
      "metadata": {
        "colab": {
          "base_uri": "https://localhost:8080/"
        },
        "id": "2sOblE-pwWZ4",
        "outputId": "0be60178-e5a8-49ea-bc5a-771e95b511a9"
      },
      "source": [
        "my_tuple=('Gracias', 'por', 'el', 5)\n",
        "print(my_tuple[2:])"
      ],
      "execution_count": null,
      "outputs": [
        {
          "output_type": "stream",
          "name": "stdout",
          "text": [
            "('el', 5)\n"
          ]
        }
      ]
    },
    {
      "cell_type": "code",
      "metadata": {
        "colab": {
          "base_uri": "https://localhost:8080/"
        },
        "id": "pOuQo8oTxkiL",
        "outputId": "26c12dcf-5c60-4806-aee8-2d19788cb25a"
      },
      "source": [
        "stock_list = ['AAPL','GOOG','IBM','AAPL','IBM','FB','F','GOOG']\n",
        "stock_set = set(stock_list)\n",
        "print(stock_set)"
      ],
      "execution_count": null,
      "outputs": [
        {
          "output_type": "stream",
          "name": "stdout",
          "text": [
            "{'IBM', 'AAPL', 'FB', 'GOOG', 'F'}\n"
          ]
        }
      ]
    },
    {
      "cell_type": "code",
      "metadata": {
        "colab": {
          "base_uri": "https://localhost:8080/"
        },
        "id": "pGrNJ2KJxl9T",
        "outputId": "e282013b-ddbb-4bd8-a71a-ec0a59824169"
      },
      "source": [
        "stock_list = ['Universidad','Nacional','De','Colombia', 'De', 'Colombia']\n",
        "stock_set = set(stock_list)\n",
        "print(stock_set)"
      ],
      "execution_count": null,
      "outputs": [
        {
          "output_type": "stream",
          "name": "stdout",
          "text": [
            "{'Nacional', 'Colombia', 'De', 'Universidad'}\n"
          ]
        }
      ]
    },
    {
      "cell_type": "code",
      "metadata": {
        "colab": {
          "base_uri": "https://localhost:8080/"
        },
        "id": "ELFaP5-ez7pC",
        "outputId": "bf15be07-5e09-42e2-aae9-cb10fc523658"
      },
      "source": [
        "my_dic = {'AAPL': 'Apple', 'FB': 'FaceBook', 'GOOG': 'Alphabet'}\n",
        "print(my_dic['GOOG'])"
      ],
      "execution_count": null,
      "outputs": [
        {
          "output_type": "stream",
          "name": "stdout",
          "text": [
            "Alphabet\n"
          ]
        }
      ]
    },
    {
      "cell_type": "code",
      "metadata": {
        "colab": {
          "base_uri": "https://localhost:8080/"
        },
        "id": "xwio8Fac0iSv",
        "outputId": "35f3344d-da64-47b7-c733-389ed6baa393"
      },
      "source": [
        "my_dic = {'TWT': 'Twitter', 'ING': 'Instagram', 'DSC': 'Discord', 'RDT':'Reddit'}\n",
        "print(my_dic['RDT'])"
      ],
      "execution_count": null,
      "outputs": [
        {
          "output_type": "stream",
          "name": "stdout",
          "text": [
            "Reddit\n"
          ]
        }
      ]
    },
    {
      "cell_type": "code",
      "metadata": {
        "colab": {
          "base_uri": "https://localhost:8080/"
        },
        "id": "2yKbwxAW3ckp",
        "outputId": "8fc76b0b-fbf0-4ef0-866b-9775d18c9b70"
      },
      "source": [
        "my_dic = {'AAPL': 'Apple', 'FB': 'FaceBook', 'GOOG': 'Alphabet'}\n",
        "my_dic['GOOG'] = 'Alphabet Company'\n",
        "print(my_dic['GOOG'])"
      ],
      "execution_count": null,
      "outputs": [
        {
          "output_type": "stream",
          "name": "stdout",
          "text": [
            "Alphabet Company\n"
          ]
        }
      ]
    },
    {
      "cell_type": "code",
      "metadata": {
        "colab": {
          "base_uri": "https://localhost:8080/"
        },
        "id": "Lr9EMiwhPFPb",
        "outputId": "1aadbe97-d503-4d73-ebe7-dd46546848c3"
      },
      "source": [
        "my_dic = {'TWT': 'Twitter', 'ING': 'Instagram', 'DSC': 'Discord', 'RDT':'Reddit'}\n",
        "my_dic['RDT'] = 'Raid'\n",
        "print(my_dic['RDT'])"
      ],
      "execution_count": null,
      "outputs": [
        {
          "output_type": "stream",
          "name": "stdout",
          "text": [
            "Raid\n"
          ]
        }
      ]
    },
    {
      "cell_type": "code",
      "metadata": {
        "colab": {
          "base_uri": "https://localhost:8080/"
        },
        "id": "fv7c8-zXPTen",
        "outputId": "315f69f2-eef8-4fff-8551-31c6355ffafb"
      },
      "source": [
        "my_dic = {'AAPL': 'Apple', 'FB': 'FaceBook', 'GOOG': 'Alphabet'}\n",
        "print(my_dic.keys())"
      ],
      "execution_count": null,
      "outputs": [
        {
          "output_type": "stream",
          "name": "stdout",
          "text": [
            "dict_keys(['AAPL', 'FB', 'GOOG'])\n"
          ]
        }
      ]
    },
    {
      "cell_type": "code",
      "metadata": {
        "colab": {
          "base_uri": "https://localhost:8080/"
        },
        "id": "CsaSEd0CPn4p",
        "outputId": "5bb3fc29-71e6-4ba6-97b4-cfd80cdad1c6"
      },
      "source": [
        "my_dic = {'TWT': 'Twitter', 'ING': 'Instagram', 'DSC': 'Discord', 'RDT':'Reddit'}\n",
        "print(my_dic.keys())"
      ],
      "execution_count": null,
      "outputs": [
        {
          "output_type": "stream",
          "name": "stdout",
          "text": [
            "dict_keys(['TWT', 'ING', 'DSC', 'RDT'])\n"
          ]
        }
      ]
    },
    {
      "cell_type": "markdown",
      "metadata": {
        "id": "Mw0gX9nEPrrr"
      },
      "source": [
        "##Common String Operations"
      ]
    },
    {
      "cell_type": "code",
      "metadata": {
        "colab": {
          "base_uri": "https://localhost:8080/"
        },
        "id": "ZYhPvRrXPvLr",
        "outputId": "a5ebd1f7-424c-4f5f-d81f-70fae69f723b"
      },
      "source": [
        "my_str = 'Welcome to QuantConnect'\n",
        "print(my_str[8:])"
      ],
      "execution_count": null,
      "outputs": [
        {
          "output_type": "stream",
          "name": "stdout",
          "text": [
            "to QuantConnect\n"
          ]
        }
      ]
    },
    {
      "cell_type": "code",
      "metadata": {
        "colab": {
          "base_uri": "https://localhost:8080/"
        },
        "id": "E2VCJ8TCP1lj",
        "outputId": "9a04a087-1c8f-46a1-f09e-73a487dae6a0"
      },
      "source": [
        "my_str = 'Thanks for reading this'\n",
        "print(my_str[11:])"
      ],
      "execution_count": null,
      "outputs": [
        {
          "output_type": "stream",
          "name": "stdout",
          "text": [
            "reading this\n"
          ]
        }
      ]
    },
    {
      "cell_type": "code",
      "metadata": {
        "colab": {
          "base_uri": "https://localhost:8080/"
        },
        "id": "fG6JGPiZQQHL",
        "outputId": "9bfc1120-68d9-40d9-d2f7-02b75fef9161"
      },
      "source": [
        "print(\"Counting the number of e's in this sentence\".count('e'))\n",
        "print('The first time e appears in this sentence'.find('e'))\n",
        "print('all the a in this sentence now becomes e'.replace('a','e'))"
      ],
      "execution_count": null,
      "outputs": [
        {
          "output_type": "stream",
          "name": "stdout",
          "text": [
            "6\n",
            "2\n",
            "ell the e in this sentence now becomes e\n"
          ]
        }
      ]
    },
    {
      "cell_type": "code",
      "metadata": {
        "colab": {
          "base_uri": "https://localhost:8080/"
        },
        "id": "umTn_l0bQSd2",
        "outputId": "5fe55559-f0f8-4a0c-ebca-b6c384b8eea5"
      },
      "source": [
        "print(\"Se va a contar la cantidad de a´s en esta frase\".count('a'))\n",
        "print('Buscando la primera r dentro de esta frase'.find('r'))\n",
        "print('Todas las o de esta frase se volverán a'.replace('o','a'))"
      ],
      "execution_count": null,
      "outputs": [
        {
          "output_type": "stream",
          "name": "stdout",
          "text": [
            "9\n",
            "13\n",
            "Tadas las a de esta frase se valverán a\n"
          ]
        }
      ]
    },
    {
      "cell_type": "code",
      "metadata": {
        "colab": {
          "base_uri": "https://localhost:8080/"
        },
        "id": "fVl-oWsASypj",
        "outputId": "f9f04c1c-0a30-487a-e1ce-5b240ef88dd1"
      },
      "source": [
        "Time = '2016-04-01 09:43:00'\n",
        "splited_list = Time.split(' ')\n",
        "date = splited_list[0]\n",
        "time = splited_list[1]\n",
        "print(date, time)\n",
        "hour = time.split(':')[0]\n",
        "print(hour)"
      ],
      "execution_count": null,
      "outputs": [
        {
          "output_type": "stream",
          "name": "stdout",
          "text": [
            "2016-04-01 09:43:00\n",
            "09\n"
          ]
        }
      ]
    },
    {
      "cell_type": "code",
      "metadata": {
        "colab": {
          "base_uri": "https://localhost:8080/"
        },
        "id": "dU5yX3IDS1tm",
        "outputId": "260ca1bb-b305-419c-b873-16b3ed1648c5"
      },
      "source": [
        "nombre='Zambrano,David'\n",
        "splited_list=nombre.split(',')\n",
        "apellido=splited_list[0]\n",
        "nombre=splited_list[1]\n",
        "print('Nombre:', nombre)\n",
        "print('Apellido:', apellido)"
      ],
      "execution_count": null,
      "outputs": [
        {
          "output_type": "stream",
          "name": "stdout",
          "text": [
            "Nombre: David\n",
            "Apellido: Zambrano\n"
          ]
        }
      ]
    },
    {
      "cell_type": "code",
      "metadata": {
        "colab": {
          "base_uri": "https://localhost:8080/"
        },
        "id": "mYyD1MYGToF3",
        "outputId": "853c31d1-e402-4127-c84c-829b32ef1ee9"
      },
      "source": [
        "my_time = 'Hour: {}, Minute: {}'.format(9, 43)\n",
        "print(my_time)"
      ],
      "execution_count": null,
      "outputs": [
        {
          "output_type": "stream",
          "name": "stdout",
          "text": [
            "Hour: 9, Minute: 43\n"
          ]
        }
      ]
    },
    {
      "cell_type": "code",
      "metadata": {
        "colab": {
          "base_uri": "https://localhost:8080/"
        },
        "id": "kflfBuMKTuZm",
        "outputId": "bfececab-b0f8-4883-bb23-19a0a24dcb47"
      },
      "source": [
        "data='Cantidad de estudiantes: {}, Cantidad de aprobados: {}'.format(35, 27)\n",
        "print(data)"
      ],
      "execution_count": null,
      "outputs": [
        {
          "output_type": "stream",
          "name": "stdout",
          "text": [
            "Cantidad de estudiantes: 35, Cantidad de aprobados: 27\n"
          ]
        }
      ]
    },
    {
      "cell_type": "code",
      "metadata": {
        "colab": {
          "base_uri": "https://localhost:8080/"
        },
        "id": "YXg5Q5zxUaMs",
        "outputId": "58071970-0211-4af7-dab2-087b59d87d48"
      },
      "source": [
        "print('pi is %f' % 3.14)\n",
        "print('%s to %s' % ('Welcome', 'QuantConnect'))"
      ],
      "execution_count": null,
      "outputs": [
        {
          "output_type": "stream",
          "name": "stdout",
          "text": [
            "pi is 3.140000\n",
            "Welcome to QuantConnect\n"
          ]
        }
      ]
    },
    {
      "cell_type": "code",
      "metadata": {
        "colab": {
          "base_uri": "https://localhost:8080/"
        },
        "id": "I0bwwUaLUkfX",
        "outputId": "a2a76872-a7c1-4397-ee45-00de24e2cabe"
      },
      "source": [
        "print('After %i hours i finished the %i tutorial' % (2, 1))"
      ],
      "execution_count": null,
      "outputs": [
        {
          "output_type": "stream",
          "name": "stdout",
          "text": [
            "After 2 hours i finished the 1 tutorial\n"
          ]
        }
      ]
    },
    {
      "cell_type": "markdown",
      "metadata": {
        "id": "94LIce_7U-Kv"
      },
      "source": [
        "#**Tutorial 2 Python: Logical Operations and Loop**"
      ]
    },
    {
      "cell_type": "markdown",
      "metadata": {
        "id": "yfyi2pcnVLW6"
      },
      "source": [
        "##Logical Operations"
      ]
    },
    {
      "cell_type": "code",
      "metadata": {
        "colab": {
          "base_uri": "https://localhost:8080/"
        },
        "id": "cHyzv__WVK2x",
        "outputId": "ea64e82f-26a4-4a70-df6c-c30ae950ec1d"
      },
      "source": [
        "print(1 == 0)    # 1 equals 0\n",
        "print(1 == 1)    # 1 equals 1\n",
        "print(1 != 0)    # 1 is not equal to 0\n",
        "print(5 >= 5)    # 5 is greater than or equal to 5\n",
        "print(5 >= 6)    # 5 is greater than or equal to 6"
      ],
      "execution_count": null,
      "outputs": [
        {
          "output_type": "stream",
          "name": "stdout",
          "text": [
            "False\n",
            "True\n",
            "True\n",
            "True\n",
            "False\n"
          ]
        }
      ]
    },
    {
      "cell_type": "code",
      "metadata": {
        "colab": {
          "base_uri": "https://localhost:8080/"
        },
        "id": "gazvops-Vkk_",
        "outputId": "d549769a-37bf-4fe9-a7fc-0644bd35222a"
      },
      "source": [
        "print(20 == 3)    # 20 equals 3\n",
        "print(7 == 7)    # 7 equals 7\n",
        "print(21 != 21)    # 21 is not equal to 21\n",
        "print(7 >= 13)    # 7 is greater than or equal to 13\n",
        "print(34 >= 2)    # 34 is greater than or equal to 2"
      ],
      "execution_count": null,
      "outputs": [
        {
          "output_type": "stream",
          "name": "stdout",
          "text": [
            "False\n",
            "True\n",
            "False\n",
            "False\n",
            "True\n"
          ]
        }
      ]
    },
    {
      "cell_type": "code",
      "metadata": {
        "colab": {
          "base_uri": "https://localhost:8080/"
        },
        "id": "YUL35BcZV_e3",
        "outputId": "dfe54ddb-6287-4e78-e4a4-707e8b092d6a"
      },
      "source": [
        "print(2 > 1 and 3 > 2)\n",
        "print(2 > 1 and 3 < 2)\n",
        "print(2 > 1 or  3 < 2)\n",
        "print(2 < 1 and 3 < 2)"
      ],
      "execution_count": null,
      "outputs": [
        {
          "output_type": "stream",
          "name": "stdout",
          "text": [
            "True\n",
            "False\n",
            "True\n",
            "False\n"
          ]
        }
      ]
    },
    {
      "cell_type": "code",
      "metadata": {
        "colab": {
          "base_uri": "https://localhost:8080/"
        },
        "id": "MZgT4PyB_8Ef",
        "outputId": "9c8bbfe4-a1eb-49d7-fc6a-961759074f03"
      },
      "source": [
        "print(12 > 5 and  24> 13)\n",
        "print(31 > 33 and 7 < 34)\n",
        "print(13 > 9 or  8 < 34)\n",
        "print(5 < 1 or 12 < 6)"
      ],
      "execution_count": null,
      "outputs": [
        {
          "output_type": "stream",
          "name": "stdout",
          "text": [
            "True\n",
            "False\n",
            "True\n",
            "False\n"
          ]
        }
      ]
    },
    {
      "cell_type": "code",
      "metadata": {
        "colab": {
          "base_uri": "https://localhost:8080/"
        },
        "id": "yMMM22VDAcKa",
        "outputId": "93669980-7496-4822-bfbb-f160dcbc872d"
      },
      "source": [
        "print((3 > 2 or 1 < 3) and (1!=3 and 4>3) and not ( 3 < 2 or 1 < 3 and (1!=3 and 4>3)))\n",
        "print(3 > 2 or 1 < 3 and (1!=3 and 4>3) and not ( 3 < 2 or 1 < 3 and (1!=3 and 4>3)))"
      ],
      "execution_count": null,
      "outputs": [
        {
          "output_type": "stream",
          "name": "stdout",
          "text": [
            "False\n",
            "True\n"
          ]
        }
      ]
    },
    {
      "cell_type": "code",
      "metadata": {
        "colab": {
          "base_uri": "https://localhost:8080/"
        },
        "id": "UMl6ASqKBb4G",
        "outputId": "52f8c6a8-38d6-4c78-ca3b-4e9323a04963"
      },
      "source": [
        "print( not ((27<=12 and 56==13) and (5<13 or 17> 12)) and ((12==12 and 13 != 22) or not (32 < 44 or 67 != 13)))"
      ],
      "execution_count": null,
      "outputs": [
        {
          "output_type": "stream",
          "name": "stdout",
          "text": [
            "True\n"
          ]
        }
      ]
    },
    {
      "cell_type": "markdown",
      "metadata": {
        "id": "YvdMD8oSCsYI"
      },
      "source": [
        "##If Statement"
      ]
    },
    {
      "cell_type": "code",
      "metadata": {
        "colab": {
          "base_uri": "https://localhost:8080/"
        },
        "id": "FqICWGpzCL-r",
        "outputId": "52be3c16-cfe4-4bf4-c7e1-5a2d28aaa23b"
      },
      "source": [
        "i = 0\n",
        "if i == 0: \n",
        "  print('i == 0 is True')"
      ],
      "execution_count": null,
      "outputs": [
        {
          "output_type": "stream",
          "name": "stdout",
          "text": [
            "i == 0 is True\n"
          ]
        }
      ]
    },
    {
      "cell_type": "code",
      "metadata": {
        "colab": {
          "base_uri": "https://localhost:8080/"
        },
        "id": "PHARH3e7CTJt",
        "outputId": "e64f5b0e-addb-4758-e732-39e01603ab6c"
      },
      "source": [
        "j = 23\n",
        "if j < 50:\n",
        "  print('j ==', j, 'is True')"
      ],
      "execution_count": null,
      "outputs": [
        {
          "output_type": "stream",
          "name": "stdout",
          "text": [
            "j == 23 is True\n"
          ]
        }
      ]
    },
    {
      "cell_type": "code",
      "metadata": {
        "colab": {
          "base_uri": "https://localhost:8080/"
        },
        "id": "oGyM5sDRCqht",
        "outputId": "dec73a97-44f5-4439-b3d8-0ab22fba58b0"
      },
      "source": [
        "p = 1 > 0\n",
        "q = 2 > 3\n",
        "if p and q:\n",
        "    print('p and q is true')\n",
        "elif p and not q:\n",
        "    print('q is false')\n",
        "elif q and not p:\n",
        "    print('p is false')\n",
        "else:\n",
        "    print('None of p and q is true')"
      ],
      "execution_count": null,
      "outputs": [
        {
          "output_type": "stream",
          "name": "stdout",
          "text": [
            "q is false\n"
          ]
        }
      ]
    },
    {
      "cell_type": "code",
      "metadata": {
        "colab": {
          "base_uri": "https://localhost:8080/"
        },
        "id": "lg39uKGWD0jj",
        "outputId": "f2327c70-60f6-49f1-c3a7-4dde4d5a96f4"
      },
      "source": [
        "a = 17\n",
        "b = 34\n",
        "if a < b:\n",
        "  print('b is greater than a')\n",
        "elif a > b:\n",
        "  print('a is greater than b')\n",
        "else:\n",
        "  print('a is equal to b')"
      ],
      "execution_count": null,
      "outputs": [
        {
          "output_type": "stream",
          "name": "stdout",
          "text": [
            "b is greater than a\n"
          ]
        }
      ]
    },
    {
      "cell_type": "markdown",
      "metadata": {
        "id": "AzGLHurdEx7s"
      },
      "source": [
        "##Loop Structure"
      ]
    },
    {
      "cell_type": "code",
      "metadata": {
        "colab": {
          "base_uri": "https://localhost:8080/"
        },
        "id": "lNXIn93CE0aK",
        "outputId": "88ff6bb5-e342-4ff6-ef67-7449468682a5"
      },
      "source": [
        "i = 0\n",
        "while i < 5:\n",
        "    print(i)\n",
        "    i += 1"
      ],
      "execution_count": null,
      "outputs": [
        {
          "output_type": "stream",
          "name": "stdout",
          "text": [
            "0\n",
            "1\n",
            "2\n",
            "3\n",
            "4\n"
          ]
        }
      ]
    },
    {
      "cell_type": "code",
      "metadata": {
        "colab": {
          "base_uri": "https://localhost:8080/"
        },
        "id": "xS6w26PxFTjb",
        "outputId": "c0c0fa93-82c2-4436-b8c6-d313573bc9f4"
      },
      "source": [
        "i=0\n",
        "while i != 4:\n",
        "  print('Mensaje', i)\n",
        "  i +=1"
      ],
      "execution_count": null,
      "outputs": [
        {
          "output_type": "stream",
          "name": "stdout",
          "text": [
            "Mensaje 0\n",
            "Mensaje 1\n",
            "Mensaje 2\n",
            "Mensaje 3\n"
          ]
        }
      ]
    },
    {
      "cell_type": "code",
      "metadata": {
        "colab": {
          "base_uri": "https://localhost:8080/"
        },
        "id": "EHrOTN3gFnPf",
        "outputId": "cb5514cf-78b7-4074-efbc-5ca75f8ad7c4"
      },
      "source": [
        "for x in [1,2,3,4,5]: \n",
        "  print(x)"
      ],
      "execution_count": null,
      "outputs": [
        {
          "output_type": "stream",
          "name": "stdout",
          "text": [
            "1\n",
            "2\n",
            "3\n",
            "4\n",
            "5\n"
          ]
        }
      ]
    },
    {
      "cell_type": "code",
      "metadata": {
        "colab": {
          "base_uri": "https://localhost:8080/"
        },
        "id": "dbz4bePhGLWd",
        "outputId": "d5fd0d75-d8b8-4f6d-b8f0-ad3034c6845f"
      },
      "source": [
        "for i in range(5):\n",
        "  print(i, 'loops')"
      ],
      "execution_count": null,
      "outputs": [
        {
          "output_type": "stream",
          "name": "stdout",
          "text": [
            "0 loops\n",
            "1 loops\n",
            "2 loops\n",
            "3 loops\n",
            "4 loops\n"
          ]
        }
      ]
    },
    {
      "cell_type": "code",
      "metadata": {
        "colab": {
          "base_uri": "https://localhost:8080/"
        },
        "id": "H9_PUQnHGgKF",
        "outputId": "0221bbe1-26a4-448e-a8d3-aad0809f5a0f"
      },
      "source": [
        "stocks = ['AAPL','GOOG','IBM','FB','F','V', 'G', 'GE']\n",
        "selected = ['AAPL','IBM']\n",
        "new_list = []\n",
        "for stock in stocks:\n",
        "    if stock not in selected:\n",
        "        new_list.append(stock)\n",
        "print(new_list)"
      ],
      "execution_count": null,
      "outputs": [
        {
          "output_type": "stream",
          "name": "stdout",
          "text": [
            "['GOOG', 'FB', 'F', 'V', 'G', 'GE']\n"
          ]
        }
      ]
    },
    {
      "cell_type": "code",
      "metadata": {
        "colab": {
          "base_uri": "https://localhost:8080/"
        },
        "id": "IlUWxUPvGnKg",
        "outputId": "d289d79e-a29d-47dc-98b5-901a4d3acc53"
      },
      "source": [
        "numbers=[2, 4, 67, 13, 97, 36, 89, 34 ,3, 78, 90, 45]\n",
        "empty_list=[]\n",
        "for i in numbers:\n",
        "  if i <= 50:\n",
        "    empty_list.append(i)\n",
        "print(empty_list)"
      ],
      "execution_count": null,
      "outputs": [
        {
          "output_type": "stream",
          "name": "stdout",
          "text": [
            "[2, 4, 13, 36, 34, 3, 45]\n"
          ]
        }
      ]
    },
    {
      "cell_type": "code",
      "metadata": {
        "colab": {
          "base_uri": "https://localhost:8080/"
        },
        "id": "u_yINILLIwSq",
        "outputId": "75ba121f-d1e8-47e1-defa-14237b488d28"
      },
      "source": [
        "stocks = ['AAPL','GOOG','IBM','FB','F','V', 'G', 'GE']\n",
        "for stock in stocks:\n",
        "    print(stock)\n",
        "    if stock == 'FB': break"
      ],
      "execution_count": null,
      "outputs": [
        {
          "output_type": "stream",
          "name": "stdout",
          "text": [
            "AAPL\n",
            "GOOG\n",
            "IBM\n",
            "FB\n"
          ]
        }
      ]
    },
    {
      "cell_type": "code",
      "metadata": {
        "colab": {
          "base_uri": "https://localhost:8080/"
        },
        "id": "cGx6F7S5I1lC",
        "outputId": "277e13e3-d09a-4bd4-aaaf-846f176b3439"
      },
      "source": [
        "numbers=[2, 4, 67, 13, 97, 36, 89, 34 ,3, 78, 90, 45]\n",
        "for i in numbers:\n",
        "  if i >= 50:\n",
        "    break\n",
        "  print(i)"
      ],
      "execution_count": null,
      "outputs": [
        {
          "output_type": "stream",
          "name": "stdout",
          "text": [
            "2\n",
            "4\n"
          ]
        }
      ]
    },
    {
      "cell_type": "code",
      "metadata": {
        "colab": {
          "base_uri": "https://localhost:8080/"
        },
        "id": "uZSO0Z8SJGM7",
        "outputId": "46b73297-a9c9-4ca9-d5b0-d22150700941"
      },
      "source": [
        "stocks = ['AAPL','GOOG','IBM','FB','F','V', 'G', 'GE']\n",
        "for stock in stocks:\n",
        "    if stock == 'FB': continue\n",
        "    print(stock)"
      ],
      "execution_count": null,
      "outputs": [
        {
          "output_type": "stream",
          "name": "stdout",
          "text": [
            "AAPL\n",
            "GOOG\n",
            "IBM\n",
            "F\n",
            "V\n",
            "G\n",
            "GE\n"
          ]
        }
      ]
    },
    {
      "cell_type": "code",
      "metadata": {
        "colab": {
          "base_uri": "https://localhost:8080/"
        },
        "id": "zH83y4tMJKpq",
        "outputId": "cce08252-244e-41f6-db85-c099f7260db1"
      },
      "source": [
        "numbers=[2, 4, 67, 13, 97, 36, 89, 34 ,3, 78, 90, 45]\n",
        "for i in numbers:\n",
        "  if i >= 50:\n",
        "    continue\n",
        "  print(i)"
      ],
      "execution_count": null,
      "outputs": [
        {
          "output_type": "stream",
          "name": "stdout",
          "text": [
            "2\n",
            "4\n",
            "13\n",
            "36\n",
            "34\n",
            "3\n",
            "45\n"
          ]
        }
      ]
    },
    {
      "cell_type": "markdown",
      "metadata": {
        "id": "QsKCIme6JR-a"
      },
      "source": [
        "##List Comprehension"
      ]
    },
    {
      "cell_type": "code",
      "metadata": {
        "colab": {
          "base_uri": "https://localhost:8080/"
        },
        "id": "BaabQMwGJTmO",
        "outputId": "eff85004-0ba9-44b4-f6e9-421519a3dad6"
      },
      "source": [
        "squares = []\n",
        "for i in [1,2,3,4,5]:\n",
        "    squares.append(i**2)\n",
        "print(squares)"
      ],
      "execution_count": null,
      "outputs": [
        {
          "output_type": "stream",
          "name": "stdout",
          "text": [
            "[1, 4, 9, 16, 25]\n"
          ]
        }
      ]
    },
    {
      "cell_type": "code",
      "metadata": {
        "colab": {
          "base_uri": "https://localhost:8080/"
        },
        "id": "9QDTseoyJmlz",
        "outputId": "9e259ef2-392d-4354-cee4-7f6fa7b2dfaa"
      },
      "source": [
        "result = []\n",
        "for i in [4,15,20,2,10]:\n",
        "    result.append((i*13)+7)\n",
        "print(result)"
      ],
      "execution_count": null,
      "outputs": [
        {
          "output_type": "stream",
          "name": "stdout",
          "text": [
            "[59, 202, 267, 33, 137]\n"
          ]
        }
      ]
    },
    {
      "cell_type": "code",
      "metadata": {
        "colab": {
          "base_uri": "https://localhost:8080/"
        },
        "id": "WiWLWJqgKFrq",
        "outputId": "71f69328-d200-4d39-ba20-c5f36627e5f7"
      },
      "source": [
        "foo = [1,2,3,4,5]\n",
        "squares = [x**2 for x in foo]\n",
        "print(squares)"
      ],
      "execution_count": null,
      "outputs": [
        {
          "output_type": "stream",
          "name": "stdout",
          "text": [
            "[1, 4, 9, 16, 25]\n"
          ]
        }
      ]
    },
    {
      "cell_type": "code",
      "metadata": {
        "colab": {
          "base_uri": "https://localhost:8080/"
        },
        "id": "nvKxSYkEKJOO",
        "outputId": "802a222e-9a8e-485d-a502-9ce92b27181f"
      },
      "source": [
        "op_list=[4,15,20,2,10]\n",
        "result = [(i*13)+7 for i in op_list]\n",
        "print(result)"
      ],
      "execution_count": null,
      "outputs": [
        {
          "output_type": "stream",
          "name": "stdout",
          "text": [
            "[59, 202, 267, 33, 137]\n"
          ]
        }
      ]
    },
    {
      "cell_type": "code",
      "metadata": {
        "colab": {
          "base_uri": "https://localhost:8080/"
        },
        "id": "XGEk2m_gKg7b",
        "outputId": "f1c6d67c-871d-47a3-eb0d-1b6a4d02fabd"
      },
      "source": [
        "stocks = ['AAPL','GOOG','IBM','FB','F','V', 'G', 'GE']\n",
        "selected = ['AAPL','IBM']\n",
        "new_list = [x for x in stocks if x not in selected]\n",
        "print(new_list)"
      ],
      "execution_count": null,
      "outputs": [
        {
          "output_type": "stream",
          "name": "stdout",
          "text": [
            "['GOOG', 'FB', 'F', 'V', 'G', 'GE']\n"
          ]
        }
      ]
    },
    {
      "cell_type": "code",
      "metadata": {
        "colab": {
          "base_uri": "https://localhost:8080/"
        },
        "id": "OWv4xSTIKrd1",
        "outputId": "9d0938d0-66c6-48d1-afe6-e62ce9f37179"
      },
      "source": [
        "numbers=[2, 4, 67, 13, 97, 36, 89, 34 ,3, 78, 90, 45]\n",
        "empty_list=[i for i in numbers if i <= 50]\n",
        "print(empty_list)"
      ],
      "execution_count": null,
      "outputs": [
        {
          "output_type": "stream",
          "name": "stdout",
          "text": [
            "[2, 4, 13, 36, 34, 3, 45]\n"
          ]
        }
      ]
    },
    {
      "cell_type": "code",
      "metadata": {
        "colab": {
          "base_uri": "https://localhost:8080/"
        },
        "id": "hnxbqHTOM059",
        "outputId": "53a2966a-57a3-44da-c267-44888baa08c0"
      },
      "source": [
        "print([(x, y) for x in [1,2,3] for y in [3,1,4] if x != y])\n",
        "print([str(x) + ' vs ' + str(y) for x in ['AAPL','GOOG','IBM','FB']\n",
        "                                for y in ['F','V','G','GE'] if x != y])"
      ],
      "execution_count": null,
      "outputs": [
        {
          "output_type": "stream",
          "name": "stdout",
          "text": [
            "[(1, 3), (1, 4), (2, 3), (2, 1), (2, 4), (3, 1), (3, 4)]\n",
            "['AAPL vs F', 'AAPL vs V', 'AAPL vs G', 'AAPL vs GE', 'GOOG vs F', 'GOOG vs V', 'GOOG vs G', 'GOOG vs GE', 'IBM vs F', 'IBM vs V', 'IBM vs G', 'IBM vs GE', 'FB vs F', 'FB vs V', 'FB vs G', 'FB vs GE']\n"
          ]
        }
      ]
    },
    {
      "cell_type": "code",
      "metadata": {
        "colab": {
          "base_uri": "https://localhost:8080/"
        },
        "id": "1V3eUQfbNKjy",
        "outputId": "3c80fa1f-4363-4127-d958-11ef355f257e"
      },
      "source": [
        "print([(x,y) for x in [1,2,3,4] for y in [1,2,3,4] if x!=y])"
      ],
      "execution_count": null,
      "outputs": [
        {
          "output_type": "stream",
          "name": "stdout",
          "text": [
            "[(1, 2), (1, 3), (1, 4), (2, 1), (2, 3), (2, 4), (3, 1), (3, 2), (3, 4), (4, 1), (4, 2), (4, 3)]\n"
          ]
        }
      ]
    },
    {
      "cell_type": "markdown",
      "metadata": {
        "id": "8157hX7ROgEs"
      },
      "source": [
        "#**Tutorial 3 Functions and Objective-Oriented Programming**"
      ]
    },
    {
      "cell_type": "markdown",
      "metadata": {
        "id": "jK51JFZZOh82"
      },
      "source": [
        "##Functions"
      ]
    },
    {
      "cell_type": "code",
      "metadata": {
        "colab": {
          "base_uri": "https://localhost:8080/"
        },
        "id": "GQ2p8kv4OqHC",
        "outputId": "242a2190-58bc-4a36-ca56-3569cc7c80ae"
      },
      "source": [
        "def product(x,y):\n",
        "    return x*y\n",
        "print(product(2,3))\n",
        "print(product(5,10))"
      ],
      "execution_count": null,
      "outputs": [
        {
          "output_type": "stream",
          "name": "stdout",
          "text": [
            "6\n",
            "50\n"
          ]
        }
      ]
    },
    {
      "cell_type": "code",
      "metadata": {
        "colab": {
          "base_uri": "https://localhost:8080/"
        },
        "id": "4hwuOHELLL1G",
        "outputId": "7d9df35b-a120-4f9c-ed9c-d0c48d7ca4f5"
      },
      "source": [
        "def operation(x,y):\n",
        "  return int(2*(x+13/y))\n",
        "print(operation(10,12))\n",
        "print(operation(2,5))"
      ],
      "execution_count": 5,
      "outputs": [
        {
          "output_type": "stream",
          "name": "stdout",
          "text": [
            "22\n",
            "9\n"
          ]
        }
      ]
    },
    {
      "cell_type": "code",
      "metadata": {
        "colab": {
          "base_uri": "https://localhost:8080/"
        },
        "id": "wyg1GMgZO63e",
        "outputId": "2af282f5-1290-467a-c545-9f47dd43cd02"
      },
      "source": [
        "def say_hi():\n",
        "    print('Welcome to QuantConnect')\n",
        "say_hi()"
      ],
      "execution_count": null,
      "outputs": [
        {
          "output_type": "stream",
          "name": "stdout",
          "text": [
            "Welcome to QuantConnect\n"
          ]
        }
      ]
    },
    {
      "cell_type": "code",
      "metadata": {
        "colab": {
          "base_uri": "https://localhost:8080/"
        },
        "id": "69Q2QoKvL3Qw",
        "outputId": "0eac4ddb-ca98-4bbf-ef14-770059ee7311"
      },
      "source": [
        "def hello():\n",
        "  print('Hello world')\n",
        "hello()"
      ],
      "execution_count": 8,
      "outputs": [
        {
          "output_type": "stream",
          "name": "stdout",
          "text": [
            "Hello world\n"
          ]
        }
      ]
    },
    {
      "cell_type": "markdown",
      "metadata": {
        "id": "5V4r7e_pNGyk"
      },
      "source": [
        "##Built-in Function"
      ]
    },
    {
      "cell_type": "code",
      "metadata": {
        "colab": {
          "base_uri": "https://localhost:8080/"
        },
        "id": "OMjnCGciNFAX",
        "outputId": "32236481-4135-4b65-b548-fc6eab59044a"
      },
      "source": [
        "print([x for x in range(10)])\n",
        "print([x for x in range(1, 11)])\n",
        "print([x for x in range(1, 11, 2)])"
      ],
      "execution_count": 13,
      "outputs": [
        {
          "output_type": "stream",
          "name": "stdout",
          "text": [
            "[0, 1, 2, 3, 4, 5, 6, 7, 8, 9]\n",
            "[1, 2, 3, 4, 5, 6, 7, 8, 9, 10]\n",
            "[1, 3, 5, 7, 9]\n"
          ]
        }
      ]
    },
    {
      "cell_type": "code",
      "metadata": {
        "colab": {
          "base_uri": "https://localhost:8080/"
        },
        "id": "3oHYpVPYNwIt",
        "outputId": "2ef11999-79f4-4702-cb8d-df973ca058de"
      },
      "source": [
        "print([x for x in range(0,12,3)])"
      ],
      "execution_count": 14,
      "outputs": [
        {
          "output_type": "stream",
          "name": "stdout",
          "text": [
            "[0, 3, 6, 9]\n"
          ]
        }
      ]
    },
    {
      "cell_type": "code",
      "metadata": {
        "colab": {
          "base_uri": "https://localhost:8080/"
        },
        "id": "QfSE766MN8rg",
        "outputId": "3bc4a664-f0d1-4bad-b0aa-e012fb9fe832"
      },
      "source": [
        "tickers = ['AAPL', 'GOOGL', 'IBM', 'FB', 'F', 'V', 'G', 'GE']\n",
        "print(\"The number of tickers is {}\".format(len(tickers)))\n",
        "for k in range(len(tickers)):\n",
        "    print(k + 1, tickers[k])"
      ],
      "execution_count": 15,
      "outputs": [
        {
          "output_type": "stream",
          "name": "stdout",
          "text": [
            "The number of tickers is 8\n",
            "1 AAPL\n",
            "2 GOOGL\n",
            "3 IBM\n",
            "4 FB\n",
            "5 F\n",
            "6 V\n",
            "7 G\n",
            "8 GE\n"
          ]
        }
      ]
    },
    {
      "cell_type": "code",
      "metadata": {
        "colab": {
          "base_uri": "https://localhost:8080/"
        },
        "id": "Abi1GXxzOLHc",
        "outputId": "1ea3a43b-8d3e-4787-83da-b68c5ccc57ea"
      },
      "source": [
        "numbers=[1,2,6,87,13,56,0,24]\n",
        "print('The number of numbers is', len(numbers))\n",
        "numbers.sort()\n",
        "for k in range(len(numbers)):\n",
        "  print(numbers[k])"
      ],
      "execution_count": 19,
      "outputs": [
        {
          "output_type": "stream",
          "name": "stdout",
          "text": [
            "The number of numbers is 8\n",
            "0\n",
            "1\n",
            "2\n",
            "6\n",
            "13\n",
            "24\n",
            "56\n",
            "87\n"
          ]
        }
      ]
    },
    {
      "cell_type": "code",
      "metadata": {
        "colab": {
          "base_uri": "https://localhost:8080/"
        },
        "id": "cZGhLAyAO3ot",
        "outputId": "b5fb6e41-95c9-4c9a-c5da-527c57e7bef7"
      },
      "source": [
        "tickers = ['AAPL','GOOG','IBM','FB','F','V', 'G', 'GE']\n",
        "print(list(map(len,tickers)))"
      ],
      "execution_count": 20,
      "outputs": [
        {
          "output_type": "stream",
          "name": "stdout",
          "text": [
            "[4, 4, 3, 2, 1, 1, 1, 2]\n"
          ]
        }
      ]
    },
    {
      "cell_type": "code",
      "metadata": {
        "colab": {
          "base_uri": "https://localhost:8080/"
        },
        "id": "-S7FIqhbPA6I",
        "outputId": "9e8e5830-4ae5-4d7e-a35b-f51a29941fba"
      },
      "source": [
        "def mult(x):\n",
        "  return x*2\n",
        "numbers=[1,2,6,87,13,56,0,24]\n",
        "print(list(map(mult,numbers)))"
      ],
      "execution_count": 22,
      "outputs": [
        {
          "output_type": "stream",
          "name": "stdout",
          "text": [
            "[2, 4, 12, 174, 26, 112, 0, 48]\n"
          ]
        }
      ]
    },
    {
      "cell_type": "code",
      "metadata": {
        "colab": {
          "base_uri": "https://localhost:8080/"
        },
        "id": "S-CnGtKdP6UG",
        "outputId": "a954bea9-339a-4180-b3ed-8936274314b4"
      },
      "source": [
        "list(map(lambda x: x**2, range(10)))"
      ],
      "execution_count": 24,
      "outputs": [
        {
          "output_type": "execute_result",
          "data": {
            "text/plain": [
              "[0, 1, 4, 9, 16, 25, 36, 49, 64, 81]"
            ]
          },
          "metadata": {},
          "execution_count": 24
        }
      ]
    },
    {
      "cell_type": "code",
      "metadata": {
        "colab": {
          "base_uri": "https://localhost:8080/"
        },
        "id": "QvWG1EIyP_2F",
        "outputId": "08c09137-f48d-4480-d0bd-aa4b89a9206d"
      },
      "source": [
        "list(map(lambda x: int((x**3)/2), range(8)))"
      ],
      "execution_count": 25,
      "outputs": [
        {
          "output_type": "execute_result",
          "data": {
            "text/plain": [
              "[0, 0, 4, 13, 32, 62, 108, 171]"
            ]
          },
          "metadata": {},
          "execution_count": 25
        }
      ]
    },
    {
      "cell_type": "code",
      "metadata": {
        "colab": {
          "base_uri": "https://localhost:8080/"
        },
        "id": "WS6i9_6fQU-U",
        "outputId": "e524db6d-4715-453c-fe56-e81ad7b8ea4c"
      },
      "source": [
        "list(map(lambda x, y: x+y, [1,2,3,4,5], [5,4,3,2,1]))"
      ],
      "execution_count": 27,
      "outputs": [
        {
          "output_type": "execute_result",
          "data": {
            "text/plain": [
              "[6, 6, 6, 6, 6]"
            ]
          },
          "metadata": {},
          "execution_count": 27
        }
      ]
    },
    {
      "cell_type": "code",
      "metadata": {
        "colab": {
          "base_uri": "https://localhost:8080/"
        },
        "id": "auDy5dWPQZqI",
        "outputId": "41109fc9-f0f3-4ebb-dad0-e04d4df064ce"
      },
      "source": [
        "list(map(lambda x, y: x*y, [1,6,12,13,7], [25,34,78,12,14]))"
      ],
      "execution_count": 28,
      "outputs": [
        {
          "output_type": "execute_result",
          "data": {
            "text/plain": [
              "[25, 204, 936, 156, 98]"
            ]
          },
          "metadata": {},
          "execution_count": 28
        }
      ]
    },
    {
      "cell_type": "code",
      "metadata": {
        "colab": {
          "base_uri": "https://localhost:8080/"
        },
        "id": "o-oXcUikQoZg",
        "outputId": "91998316-da0d-4085-d570-30b1545a8e77"
      },
      "source": [
        "sorted([5,2,3,4,1])"
      ],
      "execution_count": 29,
      "outputs": [
        {
          "output_type": "execute_result",
          "data": {
            "text/plain": [
              "[1, 2, 3, 4, 5]"
            ]
          },
          "metadata": {},
          "execution_count": 29
        }
      ]
    },
    {
      "cell_type": "code",
      "metadata": {
        "colab": {
          "base_uri": "https://localhost:8080/"
        },
        "id": "DpFhYcmEQtOM",
        "outputId": "62873786-f70f-4972-ef38-cca9774b6e5d"
      },
      "source": [
        "sorted([1,2,6,87,13,56,0,24])"
      ],
      "execution_count": 30,
      "outputs": [
        {
          "output_type": "execute_result",
          "data": {
            "text/plain": [
              "[0, 1, 2, 6, 13, 24, 56, 87]"
            ]
          },
          "metadata": {},
          "execution_count": 30
        }
      ]
    },
    {
      "cell_type": "code",
      "metadata": {
        "colab": {
          "base_uri": "https://localhost:8080/"
        },
        "id": "56ceOYH7Qz68",
        "outputId": "556ca9de-d4de-4023-9938-67201544fa14"
      },
      "source": [
        "price_list = [('AAPL', 144.09),('GOOGL', 911.71),('MSFT', 69),('FB', 150),('WMT', 75.32)]\n",
        "sorted(price_list, key = lambda x: x[1])"
      ],
      "execution_count": 33,
      "outputs": [
        {
          "output_type": "execute_result",
          "data": {
            "text/plain": [
              "[('MSFT', 69),\n",
              " ('WMT', 75.32),\n",
              " ('AAPL', 144.09),\n",
              " ('FB', 150),\n",
              " ('GOOGL', 911.71)]"
            ]
          },
          "metadata": {},
          "execution_count": 33
        }
      ]
    },
    {
      "cell_type": "code",
      "metadata": {
        "colab": {
          "base_uri": "https://localhost:8080/"
        },
        "id": "sfMWgnnjRC1Z",
        "outputId": "c4eb9021-51f5-4941-f74a-ccf01e57a108"
      },
      "source": [
        "price_list = [1,2,6,87,13,56,24]\n",
        "sorted(price_list, key = lambda x: x < 50)"
      ],
      "execution_count": 38,
      "outputs": [
        {
          "output_type": "execute_result",
          "data": {
            "text/plain": [
              "[87, 56, 1, 2, 6, 13, 24]"
            ]
          },
          "metadata": {},
          "execution_count": 38
        }
      ]
    },
    {
      "cell_type": "code",
      "metadata": {
        "colab": {
          "base_uri": "https://localhost:8080/"
        },
        "id": "RpFE5KDMu0Nx",
        "outputId": "53c4272d-2481-4822-ad69-f707170d9add"
      },
      "source": [
        "price_list = [('AAPL', 144.09), ('GOOGL', 911.71), ('MSFT', 69), ('FB', 150), ('WMT', 75.32)]\n",
        "sorted(price_list, key = lambda x: x[1], reverse = True)"
      ],
      "execution_count": 39,
      "outputs": [
        {
          "output_type": "execute_result",
          "data": {
            "text/plain": [
              "[('GOOGL', 911.71),\n",
              " ('FB', 150),\n",
              " ('AAPL', 144.09),\n",
              " ('WMT', 75.32),\n",
              " ('MSFT', 69)]"
            ]
          },
          "metadata": {},
          "execution_count": 39
        }
      ]
    },
    {
      "cell_type": "code",
      "metadata": {
        "colab": {
          "base_uri": "https://localhost:8080/"
        },
        "id": "7GMQd1CJ0X90",
        "outputId": "6ea060b1-50ef-4395-b12a-fedea6858a13"
      },
      "source": [
        "price_list = [1,2,6,87,13,56,24]\n",
        "sorted(price_list, key = lambda x: x < 50, reverse=True)"
      ],
      "execution_count": 40,
      "outputs": [
        {
          "output_type": "execute_result",
          "data": {
            "text/plain": [
              "[1, 2, 6, 13, 24, 87, 56]"
            ]
          },
          "metadata": {},
          "execution_count": 40
        }
      ]
    },
    {
      "cell_type": "code",
      "metadata": {
        "colab": {
          "base_uri": "https://localhost:8080/"
        },
        "id": "yUkNqrrN0_1Z",
        "outputId": "b05fb139-2348-409c-f5a1-741b2aecfb23"
      },
      "source": [
        "price_list = [('AAPL', 144.09), ('GOOGL', 911.71), ('MSFT', 69), ('FB', 150), ('WMT', 75.32)]\n",
        "price_list.sort(key = lambda x: x[1])\n",
        "print(price_list)"
      ],
      "execution_count": 41,
      "outputs": [
        {
          "output_type": "stream",
          "name": "stdout",
          "text": [
            "[('MSFT', 69), ('WMT', 75.32), ('AAPL', 144.09), ('FB', 150), ('GOOGL', 911.71)]\n"
          ]
        }
      ]
    },
    {
      "cell_type": "code",
      "metadata": {
        "colab": {
          "base_uri": "https://localhost:8080/"
        },
        "id": "ZrPLeDKs1FLn",
        "outputId": "f610b39f-8734-4dc3-fbe9-49ce51212615"
      },
      "source": [
        "price_list = [1,2,6,87,13,56,24]\n",
        "price_list.sort(key = lambda x: x < 50)\n",
        "print(price_list)"
      ],
      "execution_count": 42,
      "outputs": [
        {
          "output_type": "stream",
          "name": "stdout",
          "text": [
            "[87, 56, 1, 2, 6, 13, 24]\n"
          ]
        }
      ]
    },
    {
      "cell_type": "markdown",
      "metadata": {
        "id": "mRXcrbXj1Pyt"
      },
      "source": [
        "##Object-Oriented Programming"
      ]
    },
    {
      "cell_type": "code",
      "metadata": {
        "colab": {
          "base_uri": "https://localhost:8080/"
        },
        "id": "rWXMbEVT1Rgp",
        "outputId": "45619bc9-b1ee-462c-a063-90b69d0c7cc9"
      },
      "source": [
        "class Stock:\n",
        "    def __init__(self, ticker, open, close, volume):\n",
        "        self.ticker = ticker\n",
        "        self.open = open\n",
        "        self.close = close\n",
        "        self.volume = volume\n",
        "        self.rate_return = float(close)/open - 1\n",
        "\n",
        "    def update(self, open, close):\n",
        "        self.open = open\n",
        "        self.close = close\n",
        "        self.rate_return = float(self.close)/self.open - 1\n",
        "\n",
        "    def print_return(self):\n",
        "        print(self.rate_return)\n",
        "apple  = Stock('AAPL', 143.69, 144.09, 20109375)\n",
        "google = Stock('GOOGL', 898.7, 911.7, 1561616)\n",
        "print(apple.ticker)\n",
        "google.print_return()\n",
        "google.update(912.8,913.4)\n",
        "google.print_return()"
      ],
      "execution_count": 45,
      "outputs": [
        {
          "output_type": "stream",
          "name": "stdout",
          "text": [
            "AAPL\n",
            "0.014465338822744034\n",
            "0.0006573181419806673\n"
          ]
        }
      ]
    },
    {
      "cell_type": "code",
      "metadata": {
        "colab": {
          "base_uri": "https://localhost:8080/"
        },
        "id": "pYfuMuHiHOrB",
        "outputId": "d800a456-601d-4767-d166-813d91c58f4c"
      },
      "source": [
        "class Person:\n",
        "  def __init__(self,name,lastname,age,phone):\n",
        "    self.name = name\n",
        "    self.lastname = lastname\n",
        "    self.age = age\n",
        "    self.phone = phone\n",
        "  def complete(self):\n",
        "    print(self.name, self.lastname)\n",
        "  def updatePhone(self, phone):\n",
        "    self.phone = phone\n",
        "person1 = Person('Pepe', 'Perez', 24, 1231241)\n",
        "person2 = Person('Juan', 'Rodriguez', 21, 12324324)\n",
        "print(person2.age)\n",
        "person1.complete()\n",
        "person1.updatePhone(689575746)\n",
        "person2.complete()"
      ],
      "execution_count": 70,
      "outputs": [
        {
          "output_type": "stream",
          "name": "stdout",
          "text": [
            "21\n",
            "Pepe Perez\n",
            "Juan Rodriguez\n"
          ]
        }
      ]
    },
    {
      "cell_type": "code",
      "metadata": {
        "colab": {
          "base_uri": "https://localhost:8080/",
          "height": 35
        },
        "id": "TjiiegakF3c7",
        "outputId": "96e464c5-642a-42a6-cbc6-f288cbe0b482"
      },
      "source": [
        "apple.ceo = 'Tim Cook'\n",
        "apple.ceo"
      ],
      "execution_count": 46,
      "outputs": [
        {
          "output_type": "execute_result",
          "data": {
            "application/vnd.google.colaboratory.intrinsic+json": {
              "type": "string"
            },
            "text/plain": [
              "'Tim Cook'"
            ]
          },
          "metadata": {},
          "execution_count": 46
        }
      ]
    },
    {
      "cell_type": "code",
      "metadata": {
        "colab": {
          "base_uri": "https://localhost:8080/",
          "height": 35
        },
        "id": "azeaPj-JKttZ",
        "outputId": "85850e95-6d07-4684-fa39-f70265a3c7c0"
      },
      "source": [
        "person1.degree = 'college'\n",
        "person1.degree"
      ],
      "execution_count": 71,
      "outputs": [
        {
          "output_type": "execute_result",
          "data": {
            "application/vnd.google.colaboratory.intrinsic+json": {
              "type": "string"
            },
            "text/plain": [
              "'college'"
            ]
          },
          "metadata": {},
          "execution_count": 71
        }
      ]
    },
    {
      "cell_type": "code",
      "metadata": {
        "colab": {
          "base_uri": "https://localhost:8080/"
        },
        "id": "XZWDo70fGCR_",
        "outputId": "b1498a45-61d2-4be4-bd80-d5e0ba265b70"
      },
      "source": [
        "dir(apple)"
      ],
      "execution_count": 47,
      "outputs": [
        {
          "output_type": "execute_result",
          "data": {
            "text/plain": [
              "['__class__',\n",
              " '__delattr__',\n",
              " '__dict__',\n",
              " '__dir__',\n",
              " '__doc__',\n",
              " '__eq__',\n",
              " '__format__',\n",
              " '__ge__',\n",
              " '__getattribute__',\n",
              " '__gt__',\n",
              " '__hash__',\n",
              " '__init__',\n",
              " '__init_subclass__',\n",
              " '__le__',\n",
              " '__lt__',\n",
              " '__module__',\n",
              " '__ne__',\n",
              " '__new__',\n",
              " '__reduce__',\n",
              " '__reduce_ex__',\n",
              " '__repr__',\n",
              " '__setattr__',\n",
              " '__sizeof__',\n",
              " '__str__',\n",
              " '__subclasshook__',\n",
              " '__weakref__',\n",
              " 'ceo',\n",
              " 'close',\n",
              " 'open',\n",
              " 'print_return',\n",
              " 'rate_return',\n",
              " 'ticker',\n",
              " 'update',\n",
              " 'volume']"
            ]
          },
          "metadata": {},
          "execution_count": 47
        }
      ]
    },
    {
      "cell_type": "code",
      "metadata": {
        "colab": {
          "base_uri": "https://localhost:8080/"
        },
        "id": "oGj6ovaWLMBH",
        "outputId": "26835eb3-7ef4-43c8-9cb2-07b45c1bfc25"
      },
      "source": [
        "dir(person1)"
      ],
      "execution_count": 72,
      "outputs": [
        {
          "output_type": "execute_result",
          "data": {
            "text/plain": [
              "['__class__',\n",
              " '__delattr__',\n",
              " '__dict__',\n",
              " '__dir__',\n",
              " '__doc__',\n",
              " '__eq__',\n",
              " '__format__',\n",
              " '__ge__',\n",
              " '__getattribute__',\n",
              " '__gt__',\n",
              " '__hash__',\n",
              " '__init__',\n",
              " '__init_subclass__',\n",
              " '__le__',\n",
              " '__lt__',\n",
              " '__module__',\n",
              " '__ne__',\n",
              " '__new__',\n",
              " '__reduce__',\n",
              " '__reduce_ex__',\n",
              " '__repr__',\n",
              " '__setattr__',\n",
              " '__sizeof__',\n",
              " '__str__',\n",
              " '__subclasshook__',\n",
              " '__weakref__',\n",
              " 'age',\n",
              " 'complete',\n",
              " 'degree',\n",
              " 'lastname',\n",
              " 'name',\n",
              " 'phone',\n",
              " 'updatePhone']"
            ]
          },
          "metadata": {},
          "execution_count": 72
        }
      ]
    },
    {
      "cell_type": "code",
      "metadata": {
        "colab": {
          "base_uri": "https://localhost:8080/"
        },
        "id": "E6AZczGHGHOD",
        "outputId": "ba1e9ce4-4979-472c-ad6b-1c47b5c51a44"
      },
      "source": [
        "class Child(Stock):\n",
        "    def __init__(self, name):\n",
        "        self.name = name\n",
        "aa = Child('AA')\n",
        "print(aa.name)\n",
        "aa.update(100, 102)\n",
        "print(aa.open)\n",
        "print(aa.close)\n",
        "aa.print_return()"
      ],
      "execution_count": 56,
      "outputs": [
        {
          "output_type": "stream",
          "name": "stdout",
          "text": [
            "AA\n",
            "100\n",
            "102\n",
            "0.020000000000000018\n"
          ]
        }
      ]
    },
    {
      "cell_type": "code",
      "metadata": {
        "colab": {
          "base_uri": "https://localhost:8080/"
        },
        "id": "-Jp4B8YrLRmX",
        "outputId": "a5e20913-1e63-4cd3-9ff5-91232192c890"
      },
      "source": [
        "class Newest(Person):\n",
        "  def __init__(self,name):\n",
        "    self.name = name\n",
        "person3 = Newest('Jorge')\n",
        "print(person3.name)\n",
        "person3.updatePhone(4372343)\n",
        "print(person3.phone)"
      ],
      "execution_count": 74,
      "outputs": [
        {
          "output_type": "stream",
          "name": "stdout",
          "text": [
            "Jorge\n",
            "4372343\n"
          ]
        }
      ]
    },
    {
      "cell_type": "markdown",
      "metadata": {
        "id": "zXktregtMhw3"
      },
      "source": [
        "#**Tutorial 4 NumPy and Basic Pandas**"
      ]
    },
    {
      "cell_type": "markdown",
      "metadata": {
        "id": "KUCIi3nDMnUY"
      },
      "source": [
        "##NumPy"
      ]
    },
    {
      "cell_type": "code",
      "metadata": {
        "id": "Vk2z4zM3Msgm"
      },
      "source": [
        "import numpy as np"
      ],
      "execution_count": 75,
      "outputs": []
    },
    {
      "cell_type": "code",
      "metadata": {
        "colab": {
          "base_uri": "https://localhost:8080/"
        },
        "id": "vp4p63gsMz5s",
        "outputId": "7862ffee-2eb5-4228-d5b1-ecb7e6178a97"
      },
      "source": [
        "price_list = [143.73, 145.83, 143.68, 144.02, 143.5, 142.62]\n",
        "price_array = np.array(price_list)\n",
        "print(price_array, type(price_array))"
      ],
      "execution_count": 76,
      "outputs": [
        {
          "output_type": "stream",
          "name": "stdout",
          "text": [
            "[143.73 145.83 143.68 144.02 143.5  142.62] <class 'numpy.ndarray'>\n"
          ]
        }
      ]
    },
    {
      "cell_type": "code",
      "metadata": {
        "colab": {
          "base_uri": "https://localhost:8080/"
        },
        "id": "f9FewA2iOG3U",
        "outputId": "40f4ac67-9b4e-4066-8cf8-c71df40da0dd"
      },
      "source": [
        "numbers_list = [56.2, 43.6, 23.4, 12.4, 76.7, 23.9, 87.4, 23.3, 45.2]\n",
        "numbers_array = np.array(numbers_list)\n",
        "print(numbers_array, type(numbers_array))"
      ],
      "execution_count": 84,
      "outputs": [
        {
          "output_type": "stream",
          "name": "stdout",
          "text": [
            "[56.2 43.6 23.4 12.4 76.7 23.9 87.4 23.3 45.2] <class 'numpy.ndarray'>\n"
          ]
        }
      ]
    },
    {
      "cell_type": "code",
      "metadata": {
        "colab": {
          "base_uri": "https://localhost:8080/"
        },
        "id": "LW3WN7wwNCrc",
        "outputId": "f048e944-0862-4ba3-a172-bee0ecc61a3b"
      },
      "source": [
        "Ar = np.array([[1,3], [2,4]])\n",
        "print(Ar, type(Ar))"
      ],
      "execution_count": 77,
      "outputs": [
        {
          "output_type": "stream",
          "name": "stdout",
          "text": [
            "[[1 3]\n",
            " [2 4]] <class 'numpy.ndarray'>\n"
          ]
        }
      ]
    },
    {
      "cell_type": "code",
      "metadata": {
        "colab": {
          "base_uri": "https://localhost:8080/"
        },
        "id": "3P66ejfDO0YH",
        "outputId": "d0f79cca-b70d-47d1-972e-5b3527707796"
      },
      "source": [
        "ex_ar = np.array([[42,27], [13,12]])\n",
        "print(ex_ar, type(ex_ar))"
      ],
      "execution_count": 86,
      "outputs": [
        {
          "output_type": "stream",
          "name": "stdout",
          "text": [
            "[[42 27]\n",
            " [13 12]] <class 'numpy.ndarray'>\n"
          ]
        }
      ]
    },
    {
      "cell_type": "code",
      "metadata": {
        "colab": {
          "base_uri": "https://localhost:8080/"
        },
        "id": "U1t1xnIJNMjC",
        "outputId": "8b967788-bcab-4f76-c02d-0b3aceb88529"
      },
      "source": [
        "print(Ar.shape)"
      ],
      "execution_count": 78,
      "outputs": [
        {
          "output_type": "stream",
          "name": "stdout",
          "text": [
            "(2, 2)\n"
          ]
        }
      ]
    },
    {
      "cell_type": "code",
      "metadata": {
        "colab": {
          "base_uri": "https://localhost:8080/"
        },
        "id": "wYop-PsWPIam",
        "outputId": "af3205e6-cf19-48b1-9e17-c144e20ae360"
      },
      "source": [
        "print(ex_ar.shape)"
      ],
      "execution_count": 87,
      "outputs": [
        {
          "output_type": "stream",
          "name": "stdout",
          "text": [
            "(2, 2)\n"
          ]
        }
      ]
    },
    {
      "cell_type": "code",
      "metadata": {
        "colab": {
          "base_uri": "https://localhost:8080/"
        },
        "id": "wnjrzlgyPLm_",
        "outputId": "0ac7cd99-7281-4ccf-dd79-0939ad431a8a"
      },
      "source": [
        "print(Ar[0])\n",
        "print(Ar[1])"
      ],
      "execution_count": 89,
      "outputs": [
        {
          "output_type": "stream",
          "name": "stdout",
          "text": [
            "[1 3]\n",
            "[2 4]\n"
          ]
        }
      ]
    },
    {
      "cell_type": "code",
      "metadata": {
        "colab": {
          "base_uri": "https://localhost:8080/"
        },
        "id": "1oMIbZI3PR8F",
        "outputId": "c4fb12a2-a768-49ee-e3bf-2313599d57fe"
      },
      "source": [
        "print(ex_ar[0])\n",
        "print(ex_ar[1])"
      ],
      "execution_count": 90,
      "outputs": [
        {
          "output_type": "stream",
          "name": "stdout",
          "text": [
            "[42 27]\n",
            "[13 12]\n"
          ]
        }
      ]
    },
    {
      "cell_type": "code",
      "metadata": {
        "colab": {
          "base_uri": "https://localhost:8080/"
        },
        "id": "iE-GF8gTPY4X",
        "outputId": "81d7aeb2-d356-4de5-d609-d9b9ca76ef72"
      },
      "source": [
        "print('First column:', Ar[:,0])\n",
        "print('Second column:', Ar[:,1])"
      ],
      "execution_count": 93,
      "outputs": [
        {
          "output_type": "stream",
          "name": "stdout",
          "text": [
            "First column: [1 2]\n",
            "Second column: [3 4]\n"
          ]
        }
      ]
    },
    {
      "cell_type": "code",
      "metadata": {
        "colab": {
          "base_uri": "https://localhost:8080/"
        },
        "id": "cPY2t6oJPs5s",
        "outputId": "e157c7a8-9dc6-4d53-8eaa-19281c82b6db"
      },
      "source": [
        "print('First column:', ex_ar[:,0])\n",
        "print('Second column:', ex_ar[:,1])"
      ],
      "execution_count": 94,
      "outputs": [
        {
          "output_type": "stream",
          "name": "stdout",
          "text": [
            "First column: [42 13]\n",
            "Second column: [27 12]\n"
          ]
        }
      ]
    },
    {
      "cell_type": "code",
      "metadata": {
        "colab": {
          "base_uri": "https://localhost:8080/"
        },
        "id": "LMaW0ZThP05j",
        "outputId": "d7c65426-141b-49a8-9be3-6d01e29bdd94"
      },
      "source": [
        "np.log(price_array)"
      ],
      "execution_count": 95,
      "outputs": [
        {
          "output_type": "execute_result",
          "data": {
            "text/plain": [
              "array([4.96793654, 4.98244156, 4.9675886 , 4.96995218, 4.96633504,\n",
              "       4.96018375])"
            ]
          },
          "metadata": {},
          "execution_count": 95
        }
      ]
    },
    {
      "cell_type": "code",
      "metadata": {
        "colab": {
          "base_uri": "https://localhost:8080/"
        },
        "id": "2fyJ8d_GP2OO",
        "outputId": "b0e28003-5363-4db0-ed90-820ee9d29e2a"
      },
      "source": [
        "np.log(numbers_list)"
      ],
      "execution_count": 96,
      "outputs": [
        {
          "output_type": "execute_result",
          "data": {
            "text/plain": [
              "array([4.02891676, 3.77505715, 3.15273602, 2.51769647, 4.33990171,\n",
              "       3.17387846, 4.47049528, 3.14845336, 3.81109709])"
            ]
          },
          "metadata": {},
          "execution_count": 96
        }
      ]
    },
    {
      "cell_type": "code",
      "metadata": {
        "colab": {
          "base_uri": "https://localhost:8080/"
        },
        "id": "AJQ0ai7gQBTQ",
        "outputId": "fd070ac9-b6e0-4e1a-e820-f3d550df8c1d"
      },
      "source": [
        "print(np.mean(price_array))\n",
        "print(np.std(price_array))\n",
        "print(np.sum(price_array))\n",
        "print(np.max(price_array))"
      ],
      "execution_count": 99,
      "outputs": [
        {
          "output_type": "stream",
          "name": "stdout",
          "text": [
            "143.89666666666668\n",
            "0.9673790478515796\n",
            "863.38\n",
            "145.83\n"
          ]
        }
      ]
    },
    {
      "cell_type": "code",
      "metadata": {
        "colab": {
          "base_uri": "https://localhost:8080/"
        },
        "id": "HdiA2_O6QKSv",
        "outputId": "d04102c3-c442-4191-9e81-c008132e35cf"
      },
      "source": [
        "print(np.mean(numbers_list))\n",
        "print(np.std(numbers_list))\n",
        "print(np.sum(numbers_list))\n",
        "print(np.max(numbers_list))"
      ],
      "execution_count": 100,
      "outputs": [
        {
          "output_type": "stream",
          "name": "stdout",
          "text": [
            "43.56666666666667\n",
            "24.397222064088457\n",
            "392.1\n",
            "87.4\n"
          ]
        }
      ]
    },
    {
      "cell_type": "markdown",
      "metadata": {
        "id": "2kc2Jn3jQVOK"
      },
      "source": [
        "##Pandas"
      ]
    },
    {
      "cell_type": "code",
      "metadata": {
        "id": "SbtTt3SiQWy7"
      },
      "source": [
        "import pandas as pd"
      ],
      "execution_count": 101,
      "outputs": []
    },
    {
      "cell_type": "code",
      "metadata": {
        "colab": {
          "base_uri": "https://localhost:8080/"
        },
        "id": "3umVDo1PQuDg",
        "outputId": "1c1c7f84-d08b-4e9f-96e7-c6e8f9ce7c7c"
      },
      "source": [
        "price = [143.73, 145.83, 143.68, 144.02, 143.5, 142.62]\n",
        "s = pd.Series(price)\n",
        "print(s)"
      ],
      "execution_count": 128,
      "outputs": [
        {
          "output_type": "stream",
          "name": "stdout",
          "text": [
            "0    143.73\n",
            "1    145.83\n",
            "2    143.68\n",
            "3    144.02\n",
            "4    143.50\n",
            "5    142.62\n",
            "dtype: float64\n"
          ]
        }
      ]
    },
    {
      "cell_type": "code",
      "metadata": {
        "colab": {
          "base_uri": "https://localhost:8080/"
        },
        "id": "TApupoIBRTZ6",
        "outputId": "e08a9965-9709-4bb3-e093-4ca1353deafd"
      },
      "source": [
        "numbers_list = [56.2, 43.6, 23.4, 12.4, 76.7, 23.9, 87.4, 23.3, 45.2]\n",
        "a = pd.Series(numbers_list)\n",
        "print(a)"
      ],
      "execution_count": 109,
      "outputs": [
        {
          "output_type": "stream",
          "name": "stdout",
          "text": [
            "0    56.2\n",
            "1    43.6\n",
            "2    23.4\n",
            "3    12.4\n",
            "4    76.7\n",
            "5    23.9\n",
            "6    87.4\n",
            "7    23.3\n",
            "8    45.2\n",
            "dtype: float64\n"
          ]
        }
      ]
    },
    {
      "cell_type": "code",
      "metadata": {
        "colab": {
          "base_uri": "https://localhost:8080/"
        },
        "id": "CVMq3fg5RH_n",
        "outputId": "260b9bfb-d5fc-4bab-badb-5a2ec10d13be"
      },
      "source": [
        "s = pd.Series(price, index = ['a', 'b', 'c', 'd', 'e', 'f'])\n",
        "print(s)"
      ],
      "execution_count": 129,
      "outputs": [
        {
          "output_type": "stream",
          "name": "stdout",
          "text": [
            "a    143.73\n",
            "b    145.83\n",
            "c    143.68\n",
            "d    144.02\n",
            "e    143.50\n",
            "f    142.62\n",
            "dtype: float64\n"
          ]
        }
      ]
    },
    {
      "cell_type": "code",
      "metadata": {
        "colab": {
          "base_uri": "https://localhost:8080/"
        },
        "id": "YeQPCsC7RhJg",
        "outputId": "58907f8b-f123-4ddb-c989-62caddbbed29"
      },
      "source": [
        "a = pd.Series(numbers_list, index = ['A', 'B', 'C', 'D', 'F', 'E', 'F', 'G', 'H'])\n",
        "print(a)"
      ],
      "execution_count": 113,
      "outputs": [
        {
          "output_type": "stream",
          "name": "stdout",
          "text": [
            "A    56.2\n",
            "B    43.6\n",
            "C    23.4\n",
            "D    12.4\n",
            "F    76.7\n",
            "E    23.9\n",
            "F    87.4\n",
            "G    23.3\n",
            "H    45.2\n",
            "dtype: float64\n"
          ]
        }
      ]
    },
    {
      "cell_type": "code",
      "metadata": {
        "colab": {
          "base_uri": "https://localhost:8080/"
        },
        "id": "TDMcaKujRRIl",
        "outputId": "e25a9c71-6ec8-4d8e-9d9d-f93146575218"
      },
      "source": [
        "s.index = [6,5,4,3,2,1]\n",
        "print(s)"
      ],
      "execution_count": 130,
      "outputs": [
        {
          "output_type": "stream",
          "name": "stdout",
          "text": [
            "6    143.73\n",
            "5    145.83\n",
            "4    143.68\n",
            "3    144.02\n",
            "2    143.50\n",
            "1    142.62\n",
            "dtype: float64\n"
          ]
        }
      ]
    },
    {
      "cell_type": "code",
      "metadata": {
        "colab": {
          "base_uri": "https://localhost:8080/"
        },
        "id": "Aj6uAYnQRzNz",
        "outputId": "e4118433-32a5-4210-a371-9ccf32de565b"
      },
      "source": [
        "a.index = [9,8,7,6,5,4,3,2,1]\n",
        "print(a)"
      ],
      "execution_count": 116,
      "outputs": [
        {
          "output_type": "stream",
          "name": "stdout",
          "text": [
            "9    56.2\n",
            "8    43.6\n",
            "7    23.4\n",
            "6    12.4\n",
            "5    76.7\n",
            "4    23.9\n",
            "3    87.4\n",
            "2    23.3\n",
            "1    45.2\n",
            "dtype: float64\n"
          ]
        }
      ]
    },
    {
      "cell_type": "code",
      "metadata": {
        "colab": {
          "base_uri": "https://localhost:8080/"
        },
        "id": "GlDy9UJLSJs9",
        "outputId": "ef1ba9c4-a3ee-4a67-d83e-a0018e1a3623"
      },
      "source": [
        "print(s[1:])\n",
        "print(s[:-2])"
      ],
      "execution_count": 131,
      "outputs": [
        {
          "output_type": "stream",
          "name": "stdout",
          "text": [
            "5    145.83\n",
            "4    143.68\n",
            "3    144.02\n",
            "2    143.50\n",
            "1    142.62\n",
            "dtype: float64\n",
            "6    143.73\n",
            "5    145.83\n",
            "4    143.68\n",
            "3    144.02\n",
            "dtype: float64\n"
          ]
        }
      ]
    },
    {
      "cell_type": "code",
      "metadata": {
        "colab": {
          "base_uri": "https://localhost:8080/"
        },
        "id": "Le_8VbTxSQqB",
        "outputId": "445e680d-e190-4dfa-f67d-ba29728cd353"
      },
      "source": [
        "print(a[4:])\n",
        "print(a[:-6])"
      ],
      "execution_count": 119,
      "outputs": [
        {
          "output_type": "stream",
          "name": "stdout",
          "text": [
            "5    76.7\n",
            "4    23.9\n",
            "3    87.4\n",
            "2    23.3\n",
            "1    45.2\n",
            "dtype: float64\n",
            "9    56.2\n",
            "8    43.6\n",
            "7    23.4\n",
            "dtype: float64\n"
          ]
        }
      ]
    },
    {
      "cell_type": "code",
      "metadata": {
        "colab": {
          "base_uri": "https://localhost:8080/"
        },
        "id": "9ZMR1JcbSpqW",
        "outputId": "02a53416-9e94-4f22-f6e5-78402e7cc652"
      },
      "source": [
        "print(s[4])\n",
        "s[4] = 0\n",
        "print(s)"
      ],
      "execution_count": 132,
      "outputs": [
        {
          "output_type": "stream",
          "name": "stdout",
          "text": [
            "143.68\n",
            "6    143.73\n",
            "5    145.83\n",
            "4      0.00\n",
            "3    144.02\n",
            "2    143.50\n",
            "1    142.62\n",
            "dtype: float64\n"
          ]
        }
      ]
    },
    {
      "cell_type": "code",
      "metadata": {
        "colab": {
          "base_uri": "https://localhost:8080/"
        },
        "id": "y1L6BYo4StH2",
        "outputId": "5299afa7-0ba2-48b8-fbee-74a6363e5eab"
      },
      "source": [
        "print(a[7])\n",
        "a[7] = 0\n",
        "print(a)"
      ],
      "execution_count": 123,
      "outputs": [
        {
          "output_type": "stream",
          "name": "stdout",
          "text": [
            "23.4\n",
            "9    56.2\n",
            "8    43.6\n",
            "7     0.0\n",
            "6    12.4\n",
            "5    76.7\n",
            "4    23.9\n",
            "3    87.4\n",
            "2    23.3\n",
            "1    45.2\n",
            "dtype: float64\n"
          ]
        }
      ]
    },
    {
      "cell_type": "code",
      "metadata": {
        "colab": {
          "base_uri": "https://localhost:8080/"
        },
        "id": "Xj3lap2GS-Qy",
        "outputId": "50656645-bb6d-43f4-c4f7-3415933bb4c1"
      },
      "source": [
        "s = pd.Series(price, name = 'Apple Prices')\n",
        "print(s)\n",
        "print(s.name)"
      ],
      "execution_count": 134,
      "outputs": [
        {
          "output_type": "stream",
          "name": "stdout",
          "text": [
            "0    143.73\n",
            "1    145.83\n",
            "2    143.68\n",
            "3    144.02\n",
            "4    143.50\n",
            "5    142.62\n",
            "Name: Apple Prices, dtype: float64\n",
            "Apple Prices\n"
          ]
        }
      ]
    },
    {
      "cell_type": "code",
      "metadata": {
        "colab": {
          "base_uri": "https://localhost:8080/"
        },
        "id": "L0B4LvNzTG_f",
        "outputId": "1bdac30a-3d0f-45aa-9a54-068b78a3f299"
      },
      "source": [
        "a = pd.Series(numbers_list, name = 'Lista de números')\n",
        "print(a)\n",
        "print(a.name)"
      ],
      "execution_count": 135,
      "outputs": [
        {
          "output_type": "stream",
          "name": "stdout",
          "text": [
            "0    56.2\n",
            "1    43.6\n",
            "2    23.4\n",
            "3    12.4\n",
            "4    76.7\n",
            "5    23.9\n",
            "6    87.4\n",
            "7    23.3\n",
            "8    45.2\n",
            "Name: Lista de números, dtype: float64\n",
            "Lista de números\n"
          ]
        }
      ]
    },
    {
      "cell_type": "code",
      "metadata": {
        "colab": {
          "base_uri": "https://localhost:8080/"
        },
        "id": "gMx411TzTsHp",
        "outputId": "03a2b746-aa15-4e64-9b58-92e641f30bfb"
      },
      "source": [
        "print(s.describe())"
      ],
      "execution_count": 136,
      "outputs": [
        {
          "output_type": "stream",
          "name": "stdout",
          "text": [
            "count      6.000000\n",
            "mean     143.896667\n",
            "std        1.059711\n",
            "min      142.620000\n",
            "25%      143.545000\n",
            "50%      143.705000\n",
            "75%      143.947500\n",
            "max      145.830000\n",
            "Name: Apple Prices, dtype: float64\n"
          ]
        }
      ]
    },
    {
      "cell_type": "code",
      "metadata": {
        "colab": {
          "base_uri": "https://localhost:8080/"
        },
        "id": "Z596jeAWTuRn",
        "outputId": "d02c435a-d150-4f28-9821-26af55c1897f"
      },
      "source": [
        "print(a.describe())"
      ],
      "execution_count": 138,
      "outputs": [
        {
          "output_type": "stream",
          "name": "stdout",
          "text": [
            "count     9.000000\n",
            "mean     43.566667\n",
            "std      25.877162\n",
            "min      12.400000\n",
            "25%      23.400000\n",
            "50%      43.600000\n",
            "75%      56.200000\n",
            "max      87.400000\n",
            "Name: Lista de números, dtype: float64\n"
          ]
        }
      ]
    },
    {
      "cell_type": "code",
      "metadata": {
        "colab": {
          "base_uri": "https://localhost:8080/"
        },
        "id": "wBWRLzqLT6rv",
        "outputId": "5039b35c-3e75-44ec-a29e-600f41f0b35f"
      },
      "source": [
        "time_index = pd.date_range('2017-01-01', periods = len(s), freq = 'D')\n",
        "print(time_index)\n",
        "s.index = time_index\n",
        "print(s)"
      ],
      "execution_count": 139,
      "outputs": [
        {
          "output_type": "stream",
          "name": "stdout",
          "text": [
            "DatetimeIndex(['2017-01-01', '2017-01-02', '2017-01-03', '2017-01-04',\n",
            "               '2017-01-05', '2017-01-06'],\n",
            "              dtype='datetime64[ns]', freq='D')\n",
            "2017-01-01    143.73\n",
            "2017-01-02    145.83\n",
            "2017-01-03    143.68\n",
            "2017-01-04    144.02\n",
            "2017-01-05    143.50\n",
            "2017-01-06    142.62\n",
            "Freq: D, Name: Apple Prices, dtype: float64\n"
          ]
        }
      ]
    },
    {
      "cell_type": "code",
      "metadata": {
        "colab": {
          "base_uri": "https://localhost:8080/"
        },
        "id": "ByNZ9LskUKhp",
        "outputId": "2eb0323f-651f-4cfc-d97f-968d83e67b6b"
      },
      "source": [
        "time_index_a = pd.date_range('2021-10-01', periods = len(a), freq = 'D')\n",
        "print(time_index_a)\n",
        "a.index = time_index_a\n",
        "print(a)"
      ],
      "execution_count": 141,
      "outputs": [
        {
          "output_type": "stream",
          "name": "stdout",
          "text": [
            "DatetimeIndex(['2021-10-01', '2021-10-02', '2021-10-03', '2021-10-04',\n",
            "               '2021-10-05', '2021-10-06', '2021-10-07', '2021-10-08',\n",
            "               '2021-10-09'],\n",
            "              dtype='datetime64[ns]', freq='D')\n",
            "2021-10-01    56.2\n",
            "2021-10-02    43.6\n",
            "2021-10-03    23.4\n",
            "2021-10-04    12.4\n",
            "2021-10-05    76.7\n",
            "2021-10-06    23.9\n",
            "2021-10-07    87.4\n",
            "2021-10-08    23.3\n",
            "2021-10-09    45.2\n",
            "Freq: D, Name: Lista de números, dtype: float64\n"
          ]
        }
      ]
    },
    {
      "cell_type": "code",
      "metadata": {
        "colab": {
          "base_uri": "https://localhost:8080/"
        },
        "id": "fljdjhcXUidZ",
        "outputId": "922d2b78-7531-4dfc-ebc5-4c6af2b95e11"
      },
      "source": [
        "s.index = [6,5,4,3,2,1]\n",
        "print(s)\n",
        "print(s[1])"
      ],
      "execution_count": 142,
      "outputs": [
        {
          "output_type": "stream",
          "name": "stdout",
          "text": [
            "6    143.73\n",
            "5    145.83\n",
            "4    143.68\n",
            "3    144.02\n",
            "2    143.50\n",
            "1    142.62\n",
            "Name: Apple Prices, dtype: float64\n",
            "142.62\n"
          ]
        }
      ]
    },
    {
      "cell_type": "code",
      "metadata": {
        "colab": {
          "base_uri": "https://localhost:8080/"
        },
        "id": "EIGxTRMUVDr_",
        "outputId": "305ebc48-f8dc-4bf2-9ec0-877bdd7991f3"
      },
      "source": [
        "a.index = [9,8,7,6,5,4,3,2,1]\n",
        "print(a)\n",
        "print(a[1])"
      ],
      "execution_count": 148,
      "outputs": [
        {
          "output_type": "stream",
          "name": "stdout",
          "text": [
            "9    56.2\n",
            "8    43.6\n",
            "7    23.4\n",
            "6    12.4\n",
            "5    76.7\n",
            "4    23.9\n",
            "3    87.4\n",
            "2    23.3\n",
            "1    45.2\n",
            "Name: Lista de números, dtype: float64\n",
            "45.2\n"
          ]
        }
      ]
    },
    {
      "cell_type": "code",
      "metadata": {
        "colab": {
          "base_uri": "https://localhost:8080/"
        },
        "id": "0NoGllxyUnBV",
        "outputId": "685af1cf-937d-4365-ef05-5bcb4dc9e70f"
      },
      "source": [
        "print(s.iloc[1])"
      ],
      "execution_count": 144,
      "outputs": [
        {
          "output_type": "stream",
          "name": "stdout",
          "text": [
            "145.83\n"
          ]
        }
      ]
    },
    {
      "cell_type": "code",
      "metadata": {
        "colab": {
          "base_uri": "https://localhost:8080/"
        },
        "id": "52biR-3TVJVC",
        "outputId": "2cceae1c-cabf-4ea9-dc14-4aaf41047fa1"
      },
      "source": [
        "print(a.iloc[1])"
      ],
      "execution_count": 149,
      "outputs": [
        {
          "output_type": "stream",
          "name": "stdout",
          "text": [
            "43.6\n"
          ]
        }
      ]
    },
    {
      "cell_type": "code",
      "metadata": {
        "colab": {
          "base_uri": "https://localhost:8080/"
        },
        "id": "F7Cg1spSUv8e",
        "outputId": "bdc39ce8-7b00-43c2-f0f9-aa3cb3514879"
      },
      "source": [
        "s.index = time_index\n",
        "print(s['2017-01-03'])"
      ],
      "execution_count": 146,
      "outputs": [
        {
          "output_type": "stream",
          "name": "stdout",
          "text": [
            "143.68\n"
          ]
        }
      ]
    },
    {
      "cell_type": "code",
      "metadata": {
        "colab": {
          "base_uri": "https://localhost:8080/"
        },
        "id": "86O3FgBmVNYf",
        "outputId": "a556c076-3ec2-40bc-8903-1e649e6289fa"
      },
      "source": [
        "a.index = time_index_a\n",
        "print(a['2021-10-03'])"
      ],
      "execution_count": 151,
      "outputs": [
        {
          "output_type": "stream",
          "name": "stdout",
          "text": [
            "23.4\n"
          ]
        }
      ]
    },
    {
      "cell_type": "code",
      "metadata": {
        "colab": {
          "base_uri": "https://localhost:8080/"
        },
        "id": "EN1S8YnXU3Sf",
        "outputId": "e0d3c13d-dae9-4653-a5d8-f95d6facaddc"
      },
      "source": [
        "print(s['2017-01-02':'2017-01-05'])"
      ],
      "execution_count": 147,
      "outputs": [
        {
          "output_type": "stream",
          "name": "stdout",
          "text": [
            "2017-01-02    145.83\n",
            "2017-01-03    143.68\n",
            "2017-01-04    144.02\n",
            "2017-01-05    143.50\n",
            "Freq: D, Name: Apple Prices, dtype: float64\n"
          ]
        }
      ]
    },
    {
      "cell_type": "code",
      "metadata": {
        "colab": {
          "base_uri": "https://localhost:8080/"
        },
        "id": "HcGRtpqEVV-z",
        "outputId": "2b638808-ab33-4d51-8d32-8669d78cd72f"
      },
      "source": [
        "print(a['2021-10-01':'2021-10-05'])"
      ],
      "execution_count": 152,
      "outputs": [
        {
          "output_type": "stream",
          "name": "stdout",
          "text": [
            "2021-10-01    56.2\n",
            "2021-10-02    43.6\n",
            "2021-10-03    23.4\n",
            "2021-10-04    12.4\n",
            "2021-10-05    76.7\n",
            "Freq: D, Name: Lista de números, dtype: float64\n"
          ]
        }
      ]
    },
    {
      "cell_type": "code",
      "metadata": {
        "colab": {
          "base_uri": "https://localhost:8080/"
        },
        "id": "hq0pH1YgVgTx",
        "outputId": "4baf8c69-6d46-42c7-bc3d-f8cdc1bc7ebe"
      },
      "source": [
        "print(s[s < np.mean(s)])\n",
        "print(s[(s > np.mean(s)) & (s < np.mean(s) + 1.64*np.std(s))])\n"
      ],
      "execution_count": 154,
      "outputs": [
        {
          "output_type": "stream",
          "name": "stdout",
          "text": [
            "2017-01-01    143.73\n",
            "2017-01-03    143.68\n",
            "2017-01-05    143.50\n",
            "2017-01-06    142.62\n",
            "Name: Apple Prices, dtype: float64\n",
            "2017-01-04    144.02\n",
            "Freq: D, Name: Apple Prices, dtype: float64\n"
          ]
        }
      ]
    },
    {
      "cell_type": "code",
      "metadata": {
        "colab": {
          "base_uri": "https://localhost:8080/"
        },
        "id": "yS50PbrqVvnw",
        "outputId": "0ad53708-848e-49c5-a7c7-a478e8a4d1f2"
      },
      "source": [
        "print(a[a > np.mean(a)])\n",
        "print(a[a <= np.std(a)])"
      ],
      "execution_count": 164,
      "outputs": [
        {
          "output_type": "stream",
          "name": "stdout",
          "text": [
            "2021-10-01    56.2\n",
            "2021-10-02    43.6\n",
            "2021-10-05    76.7\n",
            "2021-10-07    87.4\n",
            "2021-10-09    45.2\n",
            "Name: Lista de números, dtype: float64\n",
            "2021-10-03    23.4\n",
            "2021-10-04    12.4\n",
            "2021-10-06    23.9\n",
            "2021-10-08    23.3\n",
            "Name: Lista de números, dtype: float64\n"
          ]
        }
      ]
    }
  ]
}